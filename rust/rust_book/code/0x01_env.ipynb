{
 "cells": [
  {
   "cell_type": "markdown",
   "id": "f0a23c6a-bebd-4919-bcd0-87976954c3ac",
   "metadata": {},
   "source": [
    "# Rust\n",
    "# Rust VSCode\n",
    "# Rust Jupyter\n",
    "```bash\n",
    "# MiniConda\n",
    "wget https://repo.anaconda.com/miniconda/Miniconda3-latest-Linux-x86_64.sh\n",
    "bash Miniconda3-latest-Linux-x86_64.sh\n",
    "~/miniconda3/bin/conda init\n",
    "conda config --set auto_activate_base false\n",
    "\n",
    "# Jupyter\n",
    "conda create -n rust python=3.10\n",
    "conda activate rust\n",
    "conda install jupyterlab -y\n",
    "conda install n\n",
    "# evcxr_jupyterdejs -y \n",
    "\n",
    "\n",
    "cargo install evcxr_jupyter --version \"0.15.0\" (for rustc 1.72)\n",
    "evcxr_jupy\n",
    "# start notebookter --install\n",
    "\n",
    "jupyter lab --no-browser --ip 0.0.0.0 --no-browse\n",
    "```"
   ]
  },
  {
   "cell_type": "code",
   "execution_count": 2,
   "id": "d717fc42-99cb-4232-9865-ec83ad10597f",
   "metadata": {},
   "outputs": [
    {
     "name": "stdout",
     "output_type": "stream",
     "text": [
      "Hello, World.\n"
     ]
    }
   ],
   "source": [
    "println!(\"Hello, World.\");"
   ]
  },
  {
   "cell_type": "code",
   "execution_count": 3,
   "id": "6ca62ec1-1e33-4790-9ab9-089cd6896319",
   "metadata": {},
   "outputs": [
    {
     "name": "stdout",
     "output_type": "stream",
     "text": [
      "Hello, World\n"
     ]
    },
    {
     "data": {
      "text/plain": [
       "\"Hello, World\""
      ]
     },
     "execution_count": 3,
     "metadata": {},
     "output_type": "execute_result"
    }
   ],
   "source": [
    "let message = \"Hello, World\";\n",
    "println!(\"{}\", message);\n",
    "\n",
    "message"
   ]
  },
  {
   "cell_type": "code",
   "execution_count": 4,
   "id": "b9e37c9c-99ac-459c-8661-9a4c101d24b0",
   "metadata": {},
   "outputs": [
    {
     "data": {
      "text/plain": [
       "5"
      ]
     },
     "execution_count": 4,
     "metadata": {},
     "output_type": "execute_result"
    }
   ],
   "source": [
    "1 + 4 "
   ]
  },
  {
   "cell_type": "markdown",
   "id": "8716115b-b283-405f-b4e8-0a11720e69ae",
   "metadata": {},
   "source": [
    "# Cargo\n",
    "\n",
    "```bash\n",
    "cargo new hello_world\n",
    "cd hello_world\n",
    "cargo check\n",
    "cargo build\n",
    "cargo build --release\n",
    "cargo run\n",
    "\n",
    "# Compiling hello_world v0.1.0 (/local/mnt2/workspace/xinglong/prj/langs/rust/rust_book/code/0x01_env/hello_world)\r",
    "#  Finished dev [unoptimized + debuginfo] target(s) in 0.11s#    Running `target/debug/hello_world# `\r\n",
    "Hello, world!\n",
    "`\n",
    "``\n",
    "\n",
    "```toml\n",
    "[package]\r\n",
    "name = \"hello_world\"\r\n",
    "version = \"0.1.0\"\r\n",
    "edition = \"2021\"\r\n",
    "\r\n",
    "# See more keys and their definitions at https://doc.rust-lang.org/cargo/reference/manifst.html\r\n",
    "\r\n",
    "[depndencie\n",
    "\n",
    "s]\r\n",
    "\n",
    "```"
   ]
  },
  {
   "cell_type": "code",
   "execution_count": null,
   "id": "48788597-4411-48b8-b2be-31d39a250931",
   "metadata": {},
   "outputs": [],
   "source": []
  }
 ],
 "metadata": {
  "kernelspec": {
   "display_name": "Rust",
   "language": "rust",
   "name": "rust"
  },
  "language_info": {
   "codemirror_mode": "rust",
   "file_extension": ".rs",
   "mimetype": "text/rust",
   "name": "Rust",
   "pygment_lexer": "rust",
   "version": ""
  }
 },
 "nbformat": 4,
 "nbformat_minor": 5
}
