{
 "cells": [
  {
   "cell_type": "markdown",
   "id": "8dfa6a87-670f-4100-9430-c3bc1831fb5e",
   "metadata": {},
   "source": [
    "# 4. Using Struct to Structure Related Data\n",
    "\n",
    "A struct, or structure, is a custom data type that lets you package together and name multiple related values that make up a meaningful group.\n",
    "\n",
    "## 4.1. Defining and Instantiating Structs\n",
    "\n",
    "- Similar to tuple: the pieces of a struct can be different types.\n",
    "- Unlike tuple: in a struct, you'll name each piece of the data so it's clear what the values mean.\n",
    "\n",
    "To define a struct, we use `struct` in Rust."
   ]
  },
  {
   "cell_type": "code",
   "execution_count": 6,
   "id": "e9ac9f62-ad5f-469b-9cd8-0d95feac2df7",
   "metadata": {},
   "outputs": [
    {
     "name": "stdout",
     "output_type": "stream",
     "text": [
      "user1 = User { active: true, username: \"username123\", email: \"anotheremail.com\", sign_in_count: 1 }\n"
     ]
    },
    {
     "data": {
      "text/plain": [
       "()"
      ]
     },
     "execution_count": 6,
     "metadata": {},
     "output_type": "execute_result"
    }
   ],
   "source": [
    "{\n",
    "    #[derive(Debug)]\n",
    "    struct User {\n",
    "        active: bool,\n",
    "        username: String,\n",
    "        email: String,\n",
    "        sign_in_count: u64,\n",
    "    }\n",
    "\n",
    "    let mut user1 = User {\n",
    "        active: true,\n",
    "        username: String::from(\"username123\"),\n",
    "        email: String::from(\"emailexample.com\"),\n",
    "        sign_in_count: 1,\n",
    "    };\n",
    "\n",
    "    user1.email = String::from(\"anotheremail.com\");\n",
    "\n",
    "    println!(\"user1 = {:?}\", user1);\n",
    "}"
   ]
  },
  {
   "cell_type": "code",
   "execution_count": 7,
   "id": "c656ead6-7801-40ca-adb5-0c1a8c1787da",
   "metadata": {},
   "outputs": [
    {
     "name": "stdout",
     "output_type": "stream",
     "text": [
      "user1 = User { active: true, username: \"user123\", email: \"exampleemail.com\", sign_in_count: 1 }\n"
     ]
    },
    {
     "data": {
      "text/plain": [
       "()"
      ]
     },
     "execution_count": 7,
     "metadata": {},
     "output_type": "execute_result"
    }
   ],
   "source": [
    "{\n",
    "    #[derive(Debug)]\n",
    "    struct User {\n",
    "        active: bool,\n",
    "        username: String,\n",
    "        email: String,\n",
    "        sign_in_count: u64,\n",
    "    }\n",
    "\n",
    "    fn build_user(email: String, username: String) -> User {\n",
    "        User {\n",
    "            active: true,\n",
    "            username: username,\n",
    "            email: email,\n",
    "            sign_in_count: 1\n",
    "        }\n",
    "    }\n",
    "\n",
    "    let user1 = build_user(String::from(\"exampleemail.com\"), String::from(\"user123\"));\n",
    "    println!(\"user1 = {:?}\", user1);\n",
    "}"
   ]
  },
  {
   "cell_type": "markdown",
   "id": "8c301b98-87f0-4410-8c71-66aa69fd7506",
   "metadata": {},
   "source": [
    "## Using the Field Init Shorthand\n",
    "\n",
    "Because the parameter names and the struct field names are exactly the same, we can use the field init shorthand syntax to rewrite `build_user` so it behaves exactly the same but doesn’t have the repetition of username and email."
   ]
  },
  {
   "cell_type": "code",
   "execution_count": 8,
   "id": "4e51b784-7b78-48f7-a101-d81ebd2a1b34",
   "metadata": {},
   "outputs": [
    {
     "name": "stdout",
     "output_type": "stream",
     "text": [
      "user1 = User { active: true, username: \"user123\", email: \"exampleemail.com\", sign_in_count: 1 }\n"
     ]
    },
    {
     "data": {
      "text/plain": [
       "()"
      ]
     },
     "execution_count": 8,
     "metadata": {},
     "output_type": "execute_result"
    }
   ],
   "source": [
    "{\n",
    "    #[derive(Debug)]\n",
    "    struct User {\n",
    "        active: bool,\n",
    "        username: String,\n",
    "        email: String,\n",
    "        sign_in_count: u64,\n",
    "    }\n",
    "\n",
    "    fn build_user(email: String, username: String) -> User {\n",
    "        User {\n",
    "            active: true,\n",
    "            username,\n",
    "            email,\n",
    "            sign_in_count: 1\n",
    "        }\n",
    "    }\n",
    "\n",
    "    let user1 = build_user(String::from(\"exampleemail.com\"), String::from(\"user123\"));\n",
    "    println!(\"user1 = {:?}\", user1);\n",
    "}"
   ]
  },
  {
   "cell_type": "markdown",
   "id": "ce3667e8-ce3d-4836-ae9a-852f25605043",
   "metadata": {},
   "source": [
    "## Creating Instances from Other Instances with Struct Update Syntax"
   ]
  },
  {
   "cell_type": "code",
   "execution_count": 9,
   "id": "de1adc80-38e3-49f1-872c-c798604eaf4a",
   "metadata": {},
   "outputs": [
    {
     "ename": "Error",
     "evalue": "borrow of partially moved value: `user1`",
     "output_type": "error",
     "traceback": [
      "\u001b[31m[E0382] Error:\u001b[0m borrow of partially moved value: `user1`",
      "    \u001b[38;5;246m╭\u001b[0m\u001b[38;5;246m─\u001b[0m\u001b[38;5;246m[\u001b[0mcommand_9:1:1\u001b[38;5;246m]\u001b[0m",
      "    \u001b[38;5;246m│\u001b[0m",
      " \u001b[38;5;246m23 │\u001b[0m \u001b[38;5;249m \u001b[0m\u001b[38;5;249m \u001b[0m\u001b[38;5;249m \u001b[0m\u001b[38;5;249m \u001b[0m\u001b[38;5;249m \u001b[0m\u001b[38;5;249m \u001b[0m\u001b[38;5;249m \u001b[0m\u001b[38;5;249m \u001b[0m\u001b[38;5;249mu\u001b[0m\u001b[38;5;249ms\u001b[0m\u001b[38;5;249me\u001b[0m\u001b[38;5;249mr\u001b[0m\u001b[38;5;249mn\u001b[0m\u001b[38;5;249ma\u001b[0m\u001b[38;5;249mm\u001b[0m\u001b[38;5;249me\u001b[0m\u001b[38;5;249m:\u001b[0m\u001b[38;5;249m \u001b[0m\u001b[38;5;54mu\u001b[0m\u001b[38;5;54ms\u001b[0m\u001b[38;5;54me\u001b[0m\u001b[38;5;54mr\u001b[0m\u001b[38;5;54m1\u001b[0m\u001b[38;5;54m.\u001b[0m\u001b[38;5;54mu\u001b[0m\u001b[38;5;54ms\u001b[0m\u001b[38;5;54me\u001b[0m\u001b[38;5;54mr\u001b[0m\u001b[38;5;54mn\u001b[0m\u001b[38;5;54ma\u001b[0m\u001b[38;5;54mm\u001b[0m\u001b[38;5;54me\u001b[0m\u001b[38;5;249m,\u001b[0m",
      " \u001b[38;5;240m   │\u001b[0m                   \u001b[38;5;54m─\u001b[0m\u001b[38;5;54m─\u001b[0m\u001b[38;5;54m─\u001b[0m\u001b[38;5;54m─\u001b[0m\u001b[38;5;54m─\u001b[0m\u001b[38;5;54m─\u001b[0m\u001b[38;5;54m─\u001b[0m\u001b[38;5;54m┬\u001b[0m\u001b[38;5;54m─\u001b[0m\u001b[38;5;54m─\u001b[0m\u001b[38;5;54m─\u001b[0m\u001b[38;5;54m─\u001b[0m\u001b[38;5;54m─\u001b[0m\u001b[38;5;54m─\u001b[0m  ",
      " \u001b[38;5;240m   │\u001b[0m                          \u001b[38;5;54m╰\u001b[0m\u001b[38;5;54m─\u001b[0m\u001b[38;5;54m─\u001b[0m\u001b[38;5;54m─\u001b[0m\u001b[38;5;54m─\u001b[0m\u001b[38;5;54m─\u001b[0m\u001b[38;5;54m─\u001b[0m\u001b[38;5;54m─\u001b[0m\u001b[38;5;54m─\u001b[0m value partially moved here",
      " \u001b[38;5;240m   │\u001b[0m ",
      " \u001b[38;5;246m28 │\u001b[0m \u001b[38;5;249m \u001b[0m\u001b[38;5;249m \u001b[0m\u001b[38;5;249m \u001b[0m\u001b[38;5;249m \u001b[0m\u001b[38;5;249mp\u001b[0m\u001b[38;5;249mr\u001b[0m\u001b[38;5;249mi\u001b[0m\u001b[38;5;249mn\u001b[0m\u001b[38;5;249mt\u001b[0m\u001b[38;5;249ml\u001b[0m\u001b[38;5;249mn\u001b[0m\u001b[38;5;249m!\u001b[0m\u001b[38;5;249m(\u001b[0m\u001b[38;5;249m\"\u001b[0m\u001b[38;5;249mu\u001b[0m\u001b[38;5;249ms\u001b[0m\u001b[38;5;249me\u001b[0m\u001b[38;5;249mr\u001b[0m\u001b[38;5;249m1\u001b[0m\u001b[38;5;249m \u001b[0m\u001b[38;5;249m=\u001b[0m\u001b[38;5;249m \u001b[0m\u001b[38;5;249m{\u001b[0m\u001b[38;5;249m:\u001b[0m\u001b[38;5;249m?\u001b[0m\u001b[38;5;249m}\u001b[0m\u001b[38;5;249m\"\u001b[0m\u001b[38;5;249m,\u001b[0m\u001b[38;5;249m \u001b[0m\u001b[38;5;100mu\u001b[0m\u001b[38;5;100ms\u001b[0m\u001b[38;5;100me\u001b[0m\u001b[38;5;100mr\u001b[0m\u001b[38;5;100m1\u001b[0m\u001b[38;5;249m)\u001b[0m\u001b[38;5;249m;\u001b[0m",
      " \u001b[38;5;240m   │\u001b[0m                              \u001b[38;5;100m─\u001b[0m\u001b[38;5;100m─\u001b[0m\u001b[38;5;100m┬\u001b[0m\u001b[38;5;100m─\u001b[0m\u001b[38;5;100m─\u001b[0m  ",
      " \u001b[38;5;240m   │\u001b[0m                                \u001b[38;5;100m╰\u001b[0m\u001b[38;5;100m─\u001b[0m\u001b[38;5;100m─\u001b[0m\u001b[38;5;100m─\u001b[0m\u001b[38;5;100m─\u001b[0m value borrowed here after partial move",
      "\u001b[38;5;246m────╯\u001b[0m"
     ]
    }
   ],
   "source": [
    "{\n",
    "    #[derive(Debug)]\n",
    "    struct User {\n",
    "        active: bool,\n",
    "        username: String,\n",
    "        email: String,\n",
    "        sign_in_count: u64,\n",
    "    }\n",
    "\n",
    "    fn build_user(email: String, username: String) -> User {\n",
    "        User {\n",
    "            active: true,\n",
    "            username,\n",
    "            email,\n",
    "            sign_in_count: 1\n",
    "        }\n",
    "    }\n",
    "\n",
    "    let user1 = build_user(String::from(\"exampleemail.com\"), String::from(\"user123\"));\n",
    "\n",
    "    // we could user1 members to init user2, but user1 was moved partially, it will an invalid variable here.\n",
    "    let user2 = User {\n",
    "        active: user1.active,\n",
    "        username: user1.username,\n",
    "        email: String::from(\"anotheremail.com\"),\n",
    "        sign_in_count: user1.sign_in_count,\n",
    "    };\n",
    "    \n",
    "    println!(\"user1 = {:?}\", user1); // moved, inivalid here.\n",
    "    println!(\"user2 = {:?}\", user2);\n",
    "}"
   ]
  },
  {
   "cell_type": "code",
   "execution_count": 11,
   "id": "52aced98-f025-4f2e-9c37-0b625542c25a",
   "metadata": {},
   "outputs": [
    {
     "name": "stdout",
     "output_type": "stream",
     "text": [
      "user2 = User { active: true, username: \"user123\", email: \"anotheremail.com\", sign_in_count: 1 }\n"
     ]
    },
    {
     "data": {
      "text/plain": [
       "()"
      ]
     },
     "execution_count": 11,
     "metadata": {},
     "output_type": "execute_result"
    }
   ],
   "source": [
    "{\n",
    "    #[derive(Debug)]\n",
    "    struct User {\n",
    "        active: bool,\n",
    "        username: String,\n",
    "        email: String,\n",
    "        sign_in_count: u64,\n",
    "    }\n",
    "\n",
    "    fn build_user(email: String, username: String) -> User {\n",
    "        User {\n",
    "            active: true,\n",
    "            username,\n",
    "            email,\n",
    "            sign_in_count: 1\n",
    "        }\n",
    "    }\n",
    "\n",
    "    let user1 = build_user(String::from(\"exampleemail.com\"), String::from(\"user123\"));\n",
    "\n",
    "    // we could user1 members to init user2, but user1 was moved partially, it will an invalid variable here.\n",
    "    let user2 = User {\n",
    "        email: String::from(\"anotheremail.com\"),\n",
    "        ..user1\n",
    "    };\n",
    "    \n",
    "    // println!(\"user1 = {:?}\", user1); // moved, inivalid here.\n",
    "    println!(\"user2 = {:?}\", user2);\n",
    "}"
   ]
  },
  {
   "cell_type": "markdown",
   "id": "e20394b6-7d8a-4060-b640-3ce9cdf5af00",
   "metadata": {},
   "source": [
    "## Using Tuple Structs Without Named Fields to Create Different Types"
   ]
  },
  {
   "cell_type": "code",
   "execution_count": 13,
   "id": "580b7f8d-fb74-4eb0-96c1-d2a2ea5eec5d",
   "metadata": {},
   "outputs": [
    {
     "name": "stdout",
     "output_type": "stream",
     "text": [
      "Color(0, 0, 0) Point(0, 0, 0)\n"
     ]
    },
    {
     "data": {
      "text/plain": [
       "()"
      ]
     },
     "execution_count": 13,
     "metadata": {},
     "output_type": "execute_result"
    }
   ],
   "source": [
    "{\n",
    "    #[derive(Debug)]\n",
    "    struct Color(i32, i32, i32);\n",
    "    #[derive(Debug)]\n",
    "    struct Point(i32, i32, i32);\n",
    "\n",
    "    let black = Color(0, 0, 0);\n",
    "    let origin = Point(0, 0, 0);\n",
    "\n",
    "    println!(\"{:?} {:?}\", black, origin);\n",
    "}"
   ]
  },
  {
   "cell_type": "markdown",
   "id": "1a90b700-42ab-4cf8-9a48-6cf03478b69d",
   "metadata": {},
   "source": [
    "## Unit-Like Structs Without Any Fields\n",
    "\n",
    "These are called unit-like structs because they behave similarly to (), the unit type that we mentioned in “The Tuple Type” section.\n",
    "\n",
    "Unit-like structs can be useful when you need to implement a trait on some type but don’t have any data that you want to store in the type itself."
   ]
  },
  {
   "cell_type": "code",
   "execution_count": 14,
   "id": "b1140664-961a-4a2a-95c2-c6ca5d1a73e3",
   "metadata": {},
   "outputs": [
    {
     "data": {
      "text/plain": [
       "()"
      ]
     },
     "execution_count": 14,
     "metadata": {},
     "output_type": "execute_result"
    }
   ],
   "source": [
    "{\n",
    "    struct Empty;\n",
    "\n",
    "    let subject1 = Empty;\n",
    "}"
   ]
  },
  {
   "cell_type": "markdown",
   "id": "15be18f2-2d27-4ab8-aebb-db42f461e013",
   "metadata": {},
   "source": [
    "# 5.2. An Example Program Using Structs"
   ]
  },
  {
   "cell_type": "code",
   "execution_count": 18,
   "id": "1ae00774-eea8-4e41-8d9f-78f813c0d23c",
   "metadata": {},
   "outputs": [
    {
     "name": "stdout",
     "output_type": "stream",
     "text": [
      "Rectangle {\n",
      "    height: 30,\n",
      "    width: 40,\n",
      "}\n",
      "area = 1200 \n"
     ]
    },
    {
     "data": {
      "text/plain": [
       "()"
      ]
     },
     "execution_count": 18,
     "metadata": {},
     "output_type": "execute_result"
    }
   ],
   "source": [
    "{\n",
    "    #[derive(Debug)]\n",
    "    struct Rectangle {\n",
    "        height: u32,\n",
    "        width: u32,\n",
    "    };\n",
    "\n",
    "    fn area(rect: & Rectangle) -> u32 {\n",
    "        rect.width * rect.height\n",
    "    }\n",
    "\n",
    "    let rect1 = Rectangle {\n",
    "        height : 30,\n",
    "        width : 40,\n",
    "    };\n",
    "\n",
    "    let area1 = area(&rect1);\n",
    "\n",
    "    println!(\"{:#?}\\narea = {} \", rect1, area1);\n",
    "}"
   ]
  },
  {
   "cell_type": "markdown",
   "id": "0883a280-c9c5-4c51-8fbf-27b32879135e",
   "metadata": {},
   "source": [
    "Here’s an example where we’re interested in the value that gets assigned to the width field, as well as the value of the whole struct in `rect1`."
   ]
  },
  {
   "cell_type": "code",
   "execution_count": 19,
   "id": "ce4205cb-19df-407c-aa9c-95bd13000d48",
   "metadata": {},
   "outputs": [
    {
     "name": "stderr",
     "output_type": "stream",
     "text": [
      "[src/lib.rs:31] 30 * scale = 60\n",
      "[src/lib.rs:35] &rect1 = Rectangle {\n",
      "    height: 60,\n",
      "    width: 40,\n",
      "}\n"
     ]
    },
    {
     "data": {
      "text/plain": [
       "()"
      ]
     },
     "execution_count": 19,
     "metadata": {},
     "output_type": "execute_result"
    }
   ],
   "source": [
    "{\n",
    "    #[derive(Debug)]\n",
    "    struct Rectangle {\n",
    "        height: u32,\n",
    "        width: u32,\n",
    "    };\n",
    "\n",
    "    let scale = 2;\n",
    "    let rect1 = Rectangle {\n",
    "        height : dbg!(30 * scale), // macro dbg! to debug the assign action\n",
    "        width : 40,\n",
    "    };\n",
    "\n",
    "    dbg!(&rect1); // macro dbg!\n",
    "\n",
    "    // let area1 = area(&rect1);\n",
    "\n",
    "    // println!(\"{:#?}\\narea = {} \", rect1, area1);\n",
    "}"
   ]
  },
  {
   "cell_type": "markdown",
   "id": "74f798fa-dd33-4fb6-a294-cf77ced1ceec",
   "metadata": {},
   "source": [
    "# 5.3. Method Syntax"
   ]
  },
  {
   "cell_type": "markdown",
   "id": "26e6b0d7-cc9e-4192-bd89-8c54a040c460",
   "metadata": {},
   "source": [
    "Methods are similar to functions: we declare them with the fn keyword and a name, they can have parameters and a return value, and they contain some code that’s run when the method is called from somewhere else.\n",
    "\n",
    "Unlike functions, methods are defined within the context of a struct (or an enum or a trait object, which we cover in Chapter 6 and Chapter 17, respectively), and their first parameter is always self, which represents the instance of the struct the method is being called on."
   ]
  },
  {
   "cell_type": "code",
   "execution_count": 2,
   "id": "900507f6-5d29-485e-9ce8-c08948d4208b",
   "metadata": {},
   "outputs": [
    {
     "name": "stdout",
     "output_type": "stream",
     "text": [
      "The area of the rectangle is 1200.\n"
     ]
    },
    {
     "data": {
      "text/plain": [
       "()"
      ]
     },
     "execution_count": 2,
     "metadata": {},
     "output_type": "execute_result"
    }
   ],
   "source": [
    "{\n",
    "    #[derive(Debug)]\n",
    "    struct Rectangle {\n",
    "        width: u32,\n",
    "        height: u32\n",
    "    };\n",
    "\n",
    "    impl Rectangle {\n",
    "        fn area(&self) -> u32 {  // here we don't want to take ownership \n",
    "            self.height * self.width\n",
    "        }\n",
    "    }\n",
    "\n",
    "    let rect1 = Rectangle {\n",
    "        width : 30,\n",
    "        height : 40\n",
    "    };\n",
    "\n",
    "    println!(\"The area of the rectangle is {}.\", rect1.area());\n",
    "}"
   ]
  },
  {
   "cell_type": "markdown",
   "id": "ffbb7518-dd4d-4c73-981b-21950754877c",
   "metadata": {},
   "source": [
    "## Where's the `->` Operator?\n",
    "\n",
    "- In c/c++, `->` will be calling the method via a pointer. `object->method()` is similar to `(*object).method()`\n",
    "- Rust doesn't have an equivalent to the `->` operator; instead, Rust has a feature called *automatic referencing and dereferencing*\n",
    "- When calling a method with `object.method`, Rust automatically adds in `&, &mut` or `*` so `object` matches the signature of the method.\n",
    "\n",
    "## Methods with More Parameters"
   ]
  },
  {
   "cell_type": "code",
   "execution_count": 3,
   "id": "7ef7f1fd-0c2a-46db-8b54-6936a1465ea2",
   "metadata": {},
   "outputs": [
    {
     "name": "stdout",
     "output_type": "stream",
     "text": [
      "Can rect1 hold rect2? true\n",
      "Can rect1 hold rect3? false\n"
     ]
    },
    {
     "data": {
      "text/plain": [
       "()"
      ]
     },
     "execution_count": 3,
     "metadata": {},
     "output_type": "execute_result"
    }
   ],
   "source": [
    "{\n",
    "    #[derive(Debug)]\n",
    "    struct Rectangle {\n",
    "        width: u32,\n",
    "        height: u32\n",
    "    };\n",
    "\n",
    "    impl Rectangle {\n",
    "        fn area(&self) -> u32 {  // here we don't want to take ownership \n",
    "            self.height * self.width\n",
    "        }\n",
    "\n",
    "        fn can_hold(&self, tgt: &Rectangle) -> bool {\n",
    "            self.width > tgt.width && self.height > tgt.height\n",
    "        }\n",
    "    }\n",
    "\n",
    "    let rect1 = Rectangle {\n",
    "        width: 30,\n",
    "        height: 50,\n",
    "    };\n",
    "    let rect2 = Rectangle {\n",
    "        width: 10,\n",
    "        height: 40,\n",
    "    };\n",
    "    let rect3 = Rectangle {\n",
    "        width: 60,\n",
    "        height: 45,\n",
    "    };\n",
    "\n",
    "    println!(\"Can rect1 hold rect2? {}\", rect1.can_hold(&rect2));\n",
    "    println!(\"Can rect1 hold rect3? {}\", rect1.can_hold(&rect3));\n",
    "}"
   ]
  },
  {
   "cell_type": "markdown",
   "id": "18ed61da-428b-4280-8006-bc209413f506",
   "metadata": {},
   "source": [
    "## Associated Functions\n",
    "\n",
    "**No `self` parameter.**\n",
    "\n",
    "All functions defined within an `impl` block are called `associated functions`, they're associated with the type named after the `impl`.\n",
    "\n",
    "We can define associated functions that don't have `self` as the first parameter (thus are not methods), they don't need an instance of the type to work with."
   ]
  },
  {
   "cell_type": "code",
   "execution_count": 4,
   "id": "3c29b548-a013-40de-8e19-fb75a6c6c21a",
   "metadata": {},
   "outputs": [
    {
     "name": "stdout",
     "output_type": "stream",
     "text": [
      "Rectangle {\n",
      "    width: 40,\n",
      "    height: 40,\n",
      "}\n"
     ]
    },
    {
     "data": {
      "text/plain": [
       "()"
      ]
     },
     "execution_count": 4,
     "metadata": {},
     "output_type": "execute_result"
    }
   ],
   "source": [
    "{\n",
    "    #[derive(Debug)]\n",
    "    struct Rectangle {\n",
    "        width: u32,\n",
    "        height: u32\n",
    "    };\n",
    "\n",
    "    impl Rectangle {\n",
    "        fn square(size: u32) -> Self {\n",
    "            Self {\n",
    "                width: size,\n",
    "                height: size\n",
    "            }\n",
    "        }\n",
    "    }\n",
    "\n",
    "    let s1 = Rectangle::square(40);\n",
    "\n",
    "    println!(\"{:#?}\", s1);\n",
    "}"
   ]
  },
  {
   "cell_type": "markdown",
   "id": "999ace41-8015-4716-b1c9-bbe0eed029cc",
   "metadata": {},
   "source": [
    "## Multiple impl Blocks\n",
    "\n",
    "Each struct is allowed to have multiple impl blocks. "
   ]
  },
  {
   "cell_type": "code",
   "execution_count": 5,
   "id": "37b60639-3193-4160-b0d0-c07fbec9b8f4",
   "metadata": {},
   "outputs": [
    {
     "ename": "Error",
     "evalue": "invalid format string: expected `'}'`, found `'#'`",
     "output_type": "error",
     "traceback": [
      "\u001b[31mError:\u001b[0m invalid format string: expected `'}'`, found `'#'`",
      "    \u001b[38;5;246m╭\u001b[0m\u001b[38;5;246m─\u001b[0m\u001b[38;5;246m[\u001b[0mcommand_5:1:1\u001b[38;5;246m]\u001b[0m",
      "    \u001b[38;5;246m│\u001b[0m",
      " \u001b[38;5;246m33 │\u001b[0m \u001b[38;5;249m \u001b[0m\u001b[38;5;249m \u001b[0m\u001b[38;5;249m \u001b[0m\u001b[38;5;249m \u001b[0m\u001b[38;5;249mp\u001b[0m\u001b[38;5;249mr\u001b[0m\u001b[38;5;249mi\u001b[0m\u001b[38;5;249mn\u001b[0m\u001b[38;5;249mt\u001b[0m\u001b[38;5;249ml\u001b[0m\u001b[38;5;249mn\u001b[0m\u001b[38;5;249m!\u001b[0m\u001b[38;5;249m(\u001b[0m\u001b[38;5;249m\"\u001b[0m\u001b[38;5;100m{\u001b[0m\u001b[38;5;249m#\u001b[0m\u001b[38;5;249m:\u001b[0m\u001b[38;5;249m?\u001b[0m\u001b[38;5;249m}\u001b[0m\u001b[38;5;249m \u001b[0m\u001b[38;5;249m{\u001b[0m\u001b[38;5;249m#\u001b[0m\u001b[38;5;249m:\u001b[0m\u001b[38;5;249m?\u001b[0m\u001b[38;5;249m}\u001b[0m\u001b[38;5;249m \u001b[0m\u001b[38;5;249m{\u001b[0m\u001b[38;5;249m#\u001b[0m\u001b[38;5;249m:\u001b[0m\u001b[38;5;249m?\u001b[0m\u001b[38;5;249m}\u001b[0m\u001b[38;5;249m\"\u001b[0m\u001b[38;5;249m,\u001b[0m\u001b[38;5;249m \u001b[0m\u001b[38;5;249mr\u001b[0m\u001b[38;5;249me\u001b[0m\u001b[38;5;249mc\u001b[0m\u001b[38;5;249mt\u001b[0m\u001b[38;5;249m1\u001b[0m\u001b[38;5;249m,\u001b[0m\u001b[38;5;249m \u001b[0m\u001b[38;5;249mr\u001b[0m\u001b[38;5;249me\u001b[0m\u001b[38;5;249mc\u001b[0m\u001b[38;5;249mt\u001b[0m\u001b[38;5;249m2\u001b[0m\u001b[38;5;249m,\u001b[0m\u001b[38;5;249m \u001b[0m\u001b[38;5;249mr\u001b[0m\u001b[38;5;249me\u001b[0m\u001b[38;5;249mc\u001b[0m\u001b[38;5;249mt\u001b[0m\u001b[38;5;249m3\u001b[0m\u001b[38;5;249m)\u001b[0m\u001b[38;5;249m;\u001b[0m",
      " \u001b[38;5;240m   │\u001b[0m               \u001b[38;5;100m┬\u001b[0m\u001b[38;5;54m│\u001b[0m ",
      " \u001b[38;5;240m   │\u001b[0m               \u001b[38;5;100m╰\u001b[0m\u001b[38;5;100m─\u001b[0m\u001b[38;5;100m─\u001b[0m because of this opening brace",
      " \u001b[38;5;240m   │\u001b[0m                \u001b[38;5;54m│\u001b[0m ",
      " \u001b[38;5;240m   │\u001b[0m                \u001b[38;5;54m╰\u001b[0m\u001b[38;5;54m─\u001b[0m expected `}` in format string",
      "\u001b[38;5;246m────╯\u001b[0m"
     ]
    },
    {
     "ename": "Error",
     "evalue": "unnecessary trailing semicolon",
     "output_type": "error",
     "traceback": [
      "\u001b[31m[redundant_semicolons] Error:\u001b[0m unnecessary trailing semicolon",
      "   \u001b[38;5;246m╭\u001b[0m\u001b[38;5;246m─\u001b[0m\u001b[38;5;246m[\u001b[0mcommand_5:1:1\u001b[38;5;246m]\u001b[0m",
      "   \u001b[38;5;246m│\u001b[0m",
      " \u001b[38;5;246m6 │\u001b[0m \u001b[38;5;249m \u001b[0m\u001b[38;5;249m \u001b[0m\u001b[38;5;249m \u001b[0m\u001b[38;5;249m \u001b[0m\u001b[38;5;249m}\u001b[0m\u001b[38;5;54m;\u001b[0m",
      " \u001b[38;5;240m  │\u001b[0m      \u001b[38;5;54m┬\u001b[0m  ",
      " \u001b[38;5;240m  │\u001b[0m      \u001b[38;5;54m╰\u001b[0m\u001b[38;5;54m─\u001b[0m\u001b[38;5;54m─\u001b[0m warning: unnecessary trailing semicolon",
      " \u001b[38;5;240m  │\u001b[0m      \u001b[38;5;100m│\u001b[0m  ",
      " \u001b[38;5;240m  │\u001b[0m      \u001b[38;5;100m╰\u001b[0m\u001b[38;5;100m─\u001b[0m\u001b[38;5;100m─\u001b[0m help: remove this semicolon: ``",
      "\u001b[38;5;246m───╯\u001b[0m"
     ]
    }
   ],
   "source": [
    "{\n",
    "    #[derive(Debug)]\n",
    "    struct Rectangle {\n",
    "        width: u32,\n",
    "        height: u32\n",
    "    };\n",
    "\n",
    "    impl Rectangle {\n",
    "        fn area(&self) -> u32 {  // here we don't want to take ownership \n",
    "            self.height * self.width\n",
    "        }\n",
    "    }\n",
    "\n",
    "    impl Rectangle {\n",
    "        fn can_hold(&self, tgt: &Rectangle) -> bool {\n",
    "            self.width > tgt.width && self.height > tgt.height\n",
    "        }\n",
    "    }\n",
    "\n",
    "    let rect1 = Rectangle {\n",
    "        width: 30,\n",
    "        height: 50,\n",
    "    };\n",
    "    let rect2 = Rectangle {\n",
    "        width: 10,\n",
    "        height: 40,\n",
    "    };\n",
    "    let rect3 = Rectangle {\n",
    "        width: 60,\n",
    "        height: 45,\n",
    "    };\n",
    "\n",
    "    println!(\"{:?} {:?} {:?}\", rect1, rect2, rect3);\n",
    "\n",
    "    println!(\"Can rect1 hold rect2? {}\", rect1.can_hold(&rect2));\n",
    "    println!(\"Can rect1 hold rect3? {}\", rect1.can_hold(&rect3));\n",
    "}"
   ]
  },
  {
   "cell_type": "code",
   "execution_count": null,
   "id": "d98fa4af-2cb3-4f70-aa28-e8847db93a10",
   "metadata": {},
   "outputs": [],
   "source": []
  }
 ],
 "metadata": {
  "kernelspec": {
   "display_name": "Rust",
   "language": "rust",
   "name": "rust"
  },
  "language_info": {
   "codemirror_mode": "rust",
   "file_extension": ".rs",
   "mimetype": "text/rust",
   "name": "Rust",
   "pygment_lexer": "rust",
   "version": ""
  }
 },
 "nbformat": 4,
 "nbformat_minor": 5
}
