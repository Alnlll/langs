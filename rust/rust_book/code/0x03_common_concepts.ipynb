{
 "cells": [
  {
   "cell_type": "markdown",
   "id": "48f73dea-bc1b-477f-abe8-a243df97cb36",
   "metadata": {},
   "source": [
    "# 3.1. Variables and Mutability\n",
    "\n",
    "## Variables and Mutability\n",
    "By dafault, vairable are immutable in Rust. And Rust allows you to make it `mutable`."
   ]
  },
  {
   "cell_type": "code",
   "execution_count": null,
   "id": "52337e2d-5f00-4289-8f24-a51fd378af57",
   "metadata": {
    "tags": [],
    "vscode": {
     "languageId": "rust"
    }
   },
   "outputs": [
    {
     "ename": "Error",
     "evalue": "cannot assign twice to immutable variable `x`",
     "output_type": "error",
     "traceback": [
      "\u001b[31m[E0384] Error:\u001b[0m cannot assign twice to immutable variable `x`",
      "   \u001b[38;5;246m╭\u001b[0m\u001b[38;5;246m─\u001b[0m\u001b[38;5;246m[\u001b[0mcommand_8:1:1\u001b[38;5;246m]\u001b[0m",
      "   \u001b[38;5;246m│\u001b[0m",
      " \u001b[38;5;246m2 │\u001b[0m \u001b[38;5;249m \u001b[0m\u001b[38;5;249m \u001b[0m\u001b[38;5;249m \u001b[0m\u001b[38;5;249m \u001b[0m\u001b[38;5;249ml\u001b[0m\u001b[38;5;249me\u001b[0m\u001b[38;5;249mt\u001b[0m\u001b[38;5;249m \u001b[0m\u001b[38;5;54mx\u001b[0m\u001b[38;5;249m \u001b[0m\u001b[38;5;249m=\u001b[0m\u001b[38;5;249m \u001b[0m\u001b[38;5;249m5\u001b[0m\u001b[38;5;249m;\u001b[0m",
      " \u001b[38;5;240m  │\u001b[0m         \u001b[38;5;54m┬\u001b[0m  ",
      " \u001b[38;5;240m  │\u001b[0m         \u001b[38;5;54m╰\u001b[0m\u001b[38;5;54m─\u001b[0m\u001b[38;5;54m─\u001b[0m first assignment to `x`",
      " \u001b[38;5;240m  │\u001b[0m         \u001b[38;5;68m│\u001b[0m  ",
      " \u001b[38;5;240m  │\u001b[0m         \u001b[38;5;68m╰\u001b[0m\u001b[38;5;68m─\u001b[0m\u001b[38;5;68m─\u001b[0m help: consider making this binding mutable: `mut x`",
      " \u001b[38;5;240m  │\u001b[0m ",
      " \u001b[38;5;246m4 │\u001b[0m \u001b[38;5;249m \u001b[0m\u001b[38;5;249m \u001b[0m\u001b[38;5;249m \u001b[0m\u001b[38;5;249m \u001b[0m\u001b[38;5;100mx\u001b[0m\u001b[38;5;100m \u001b[0m\u001b[38;5;100m=\u001b[0m\u001b[38;5;100m \u001b[0m\u001b[38;5;100m6\u001b[0m\u001b[38;5;249m;\u001b[0m",
      " \u001b[38;5;240m  │\u001b[0m     \u001b[38;5;100m─\u001b[0m\u001b[38;5;100m─\u001b[0m\u001b[38;5;100m┬\u001b[0m\u001b[38;5;100m─\u001b[0m\u001b[38;5;100m─\u001b[0m  ",
      " \u001b[38;5;240m  │\u001b[0m       \u001b[38;5;100m╰\u001b[0m\u001b[38;5;100m─\u001b[0m\u001b[38;5;100m─\u001b[0m\u001b[38;5;100m─\u001b[0m\u001b[38;5;100m─\u001b[0m cannot assign twice to immutable variable",
      " \u001b[38;5;240m  │\u001b[0m ",
      " \u001b[38;5;240m  │\u001b[0m \u001b[38;5;115mNote\u001b[0m: You can change an existing variable to mutable like: `let mut x = x;`",
      "\u001b[38;5;246m───╯\u001b[0m"
     ]
    }
   ],
   "source": [
    "{\n",
    "    let x = 5;\n",
    "    println!(\"The value of x is {}.\", x);\n",
    "    x = 6;\n",
    "    println!(\"The value of x is {}.\", x);\n",
    "}"
   ]
  },
  {
   "cell_type": "code",
   "execution_count": 9,
   "id": "fcd471e4-4a62-4bed-894b-c0e5105212b1",
   "metadata": {
    "tags": [],
    "vscode": {
     "languageId": "rust"
    }
   },
   "outputs": [
    {
     "name": "stdout",
     "output_type": "stream",
     "text": [
      "The value of x is 5.\n",
      "The value of x is 6.\n"
     ]
    },
    {
     "data": {
      "text/plain": [
       "()"
      ]
     },
     "execution_count": 9,
     "metadata": {},
     "output_type": "execute_result"
    }
   ],
   "source": [
    "{\n",
    "    let mut x = 5;\n",
    "    println!(\"The value of x is {}.\", x);\n",
    "    x = 6;\n",
    "    println!(\"The value of x is {}.\", x);\n",
    "}"
   ]
  },
  {
   "cell_type": "markdown",
   "id": "c3f79af0-4bb6-448d-b239-14dd106d8c45",
   "metadata": {},
   "source": [
    "## Constants\n",
    "\n",
    "Like immutable variables, `constants` are values that are bound to a name and are allowed to change, but there are a few differences.\n",
    "\n",
    "- `mut` could not be used on `constants`\n",
    "- `constant` could be declared in any scope\n",
    "- Be set only to a constant expresssion."
   ]
  },
  {
   "cell_type": "code",
   "execution_count": 10,
   "id": "10a70c2b-18ee-4363-a833-d5ad6f7c3ee4",
   "metadata": {
    "tags": [],
    "vscode": {
     "languageId": "rust"
    }
   },
   "outputs": [],
   "source": [
    "// const mut THREE_HOURS_IN_SECONDS: u32 = 60 * 60 * 3;"
   ]
  },
  {
   "cell_type": "code",
   "execution_count": 11,
   "id": "f0e0c6e5-d8a3-4c44-a207-461b012bb049",
   "metadata": {
    "tags": [],
    "vscode": {
     "languageId": "rust"
    }
   },
   "outputs": [],
   "source": [
    "const THREE_HOURS_IN_SECONDS: u32 = 60 * 60 * 3;"
   ]
  },
  {
   "cell_type": "markdown",
   "id": "adadb74a-4794-4fad-a5fa-1e625ccf0a7b",
   "metadata": {},
   "source": [
    "## Shadowing\n",
    "\n",
    "In Rust, user could declare a new variable with the same name as a previous variable, that's what was called `shadowed`.\n",
    "\n",
    "- The new variable will `shadow` the old var\n",
    "- The new variable could be different dtype."
   ]
  },
  {
   "cell_type": "code",
   "execution_count": 3,
   "id": "3c8d08f5-0361-438a-bb83-80f6307fe1d3",
   "metadata": {
    "tags": [],
    "vscode": {
     "languageId": "rust"
    }
   },
   "outputs": [
    {
     "name": "stdout",
     "output_type": "stream",
     "text": [
      "The value of x in the inner scope is : 12\n",
      "The value of x is : 6\n",
      "The value of x is : 6\n"
     ]
    },
    {
     "data": {
      "text/plain": [
       "()"
      ]
     },
     "execution_count": 3,
     "metadata": {},
     "output_type": "execute_result"
    }
   ],
   "source": [
    "{\n",
    "    let x = 5;\n",
    "    let x = x + 1;\n",
    "    \n",
    "    {\n",
    "        let x = x * 2;\n",
    "        println!(\"The value of x in the inner scope is : {}\", x);\n",
    "    }\n",
    "    println!(\"The value of x is : {}\", x);\n",
    "\n",
    "    let var0 = \"    \";\n",
    "    let var0 : u32 = 1000_000;\n",
    "\n",
    "    println!(\"The value of x is : {}\", x);\n",
    "}"
   ]
  },
  {
   "cell_type": "markdown",
   "id": "dad4be11-78c6-4cc3-8dab-aa4d3216157e",
   "metadata": {},
   "source": [
    "# 3.2. Data Type\n",
    "Each value in Rust is of a certain `data type`, here looking atr 2 data types: `scalar` and `compound`.\n",
    "\n",
    "Rust is a `statically typed` language, which means that it must know the types of all variables at compile time.\n",
    "\n",
    "We must add a type definition where multiple type are possible."
   ]
  },
  {
   "cell_type": "code",
   "execution_count": 13,
   "id": "42955b23-cf72-4208-bec0-f13ec60aa2e3",
   "metadata": {
    "tags": [],
    "vscode": {
     "languageId": "rust"
    }
   },
   "outputs": [
    {
     "ename": "Error",
     "evalue": "type annotations needed",
     "output_type": "error",
     "traceback": [
      "\u001b[31m[E0282] Error:\u001b[0m type annotations needed",
      "   \u001b[38;5;246m╭\u001b[0m\u001b[38;5;246m─\u001b[0m\u001b[38;5;246m[\u001b[0mcommand_13:1:1\u001b[38;5;246m]\u001b[0m",
      "   \u001b[38;5;246m│\u001b[0m",
      " \u001b[38;5;246m2 │\u001b[0m \u001b[38;5;249m \u001b[0m\u001b[38;5;249m \u001b[0m\u001b[38;5;249m \u001b[0m\u001b[38;5;249m \u001b[0m\u001b[38;5;249ml\u001b[0m\u001b[38;5;249me\u001b[0m\u001b[38;5;249mt\u001b[0m\u001b[38;5;249m \u001b[0m\u001b[38;5;54mg\u001b[0m\u001b[38;5;54mu\u001b[0m\u001b[38;5;54me\u001b[0m\u001b[38;5;54ms\u001b[0m\u001b[38;5;54ms\u001b[0m\u001b[38;5;249m \u001b[0m\u001b[38;5;249m=\u001b[0m\u001b[38;5;249m \u001b[0m\u001b[38;5;249m\"\u001b[0m\u001b[38;5;249m4\u001b[0m\u001b[38;5;249m2\u001b[0m\u001b[38;5;249m\"\u001b[0m\u001b[38;5;249m.\u001b[0m\u001b[38;5;249mp\u001b[0m\u001b[38;5;249ma\u001b[0m\u001b[38;5;249mr\u001b[0m\u001b[38;5;249ms\u001b[0m\u001b[38;5;249me\u001b[0m\u001b[38;5;249m(\u001b[0m\u001b[38;5;249m)\u001b[0m\u001b[38;5;249m.\u001b[0m\u001b[38;5;249me\u001b[0m\u001b[38;5;249mx\u001b[0m\u001b[38;5;249mp\u001b[0m\u001b[38;5;249me\u001b[0m\u001b[38;5;249mc\u001b[0m\u001b[38;5;249mt\u001b[0m\u001b[38;5;249m(\u001b[0m\u001b[38;5;249m\"\u001b[0m\u001b[38;5;249mN\u001b[0m\u001b[38;5;249mo\u001b[0m\u001b[38;5;249mt\u001b[0m\u001b[38;5;249m \u001b[0m\u001b[38;5;249ma\u001b[0m\u001b[38;5;249m \u001b[0m\u001b[38;5;249mn\u001b[0m\u001b[38;5;249mu\u001b[0m\u001b[38;5;249mm\u001b[0m\u001b[38;5;249mb\u001b[0m\u001b[38;5;249me\u001b[0m\u001b[38;5;249mr\u001b[0m\u001b[38;5;249m!\u001b[0m\u001b[38;5;249m\"\u001b[0m\u001b[38;5;249m)\u001b[0m\u001b[38;5;249m;\u001b[0m",
      " \u001b[38;5;240m  │\u001b[0m         \u001b[38;5;54m─\u001b[0m\u001b[38;5;54m─\u001b[0m\u001b[38;5;54m┬\u001b[0m\u001b[38;5;54m─\u001b[0m\u001b[38;5;54m─\u001b[0m\u001b[38;5;100m│\u001b[0m ",
      " \u001b[38;5;240m  │\u001b[0m           \u001b[38;5;54m╰\u001b[0m\u001b[38;5;54m─\u001b[0m\u001b[38;5;54m─\u001b[0m\u001b[38;5;54m─\u001b[0m\u001b[38;5;54m─\u001b[0m error: type annotations needed",
      " \u001b[38;5;240m  │\u001b[0m              \u001b[38;5;100m│\u001b[0m ",
      " \u001b[38;5;240m  │\u001b[0m              \u001b[38;5;100m╰\u001b[0m\u001b[38;5;100m─\u001b[0m help: consider giving `guess` an explicit type: `: /* Type */`",
      "\u001b[38;5;246m───╯\u001b[0m"
     ]
    }
   ],
   "source": [
    "{\n",
    "    let guess = \"42\".parse().expect(\"Not a number!\");\n",
    "}"
   ]
  },
  {
   "cell_type": "code",
   "execution_count": 14,
   "id": "8eb4abc9-3f10-4cf4-9fd5-6be9cad2aeea",
   "metadata": {
    "tags": [],
    "vscode": {
     "languageId": "rust"
    }
   },
   "outputs": [
    {
     "data": {
      "text/plain": [
       "()"
      ]
     },
     "execution_count": 14,
     "metadata": {},
     "output_type": "execute_result"
    }
   ],
   "source": [
    "{\n",
    "    let guess: u32 = \"42\".parse().expect(\"Not a number!\");\n",
    "}"
   ]
  },
  {
   "cell_type": "markdown",
   "id": "e865aca5-597a-4086-8c08-ea44adb70085",
   "metadata": {
    "tags": []
   },
   "source": [
    "### Scalar Types\n",
    "\n",
    "A `scalar` type represents a single value. Rust has 4 primary scalar types:\n",
    "- integers\n",
    "- floating-point\n",
    "- Boolean\n",
    "- character\n",
    "\n",
    "#### Integer Types\n",
    "\n",
    "Length | Signed | Unsigned\n",
    ":- | :- | :-\n",
    "8-bit | `i8` | `u8`\n",
    "16-bit | `i16` | `u16`\n",
    "32-bit | `i32` | `u32`\n",
    "64-bit | `i64` | `u64`\n",
    "128-bit | `i128` | `u128`\n",
    "arch | `isize` | `usize`\n",
    "\n",
    "Number literals\t| Example\n",
    ":- | :-\n",
    "Decimal | `98_222`\n",
    "Hex\t| `0xff`\n",
    "Octal | `0o77`\n",
    "Binary | `0b1111_0000`\n",
    "Byte (u8 only) | `b'A'`\n",
    "\n",
    "- Integer Overflow\n",
    "    - Debug : panic when overflow\n",
    "    - Release : overflow as c lang\n",
    "\n",
    "#### Float Types\n",
    "- `fp64`\n",
    "- `fp32`"
   ]
  },
  {
   "cell_type": "code",
   "execution_count": 16,
   "id": "57980a43-48fc-466f-aba3-d5c7f1fc9851",
   "metadata": {
    "tags": [],
    "vscode": {
     "languageId": "rust"
    }
   },
   "outputs": [
    {
     "data": {
      "text/plain": [
       "()"
      ]
     },
     "execution_count": 16,
     "metadata": {},
     "output_type": "execute_result"
    }
   ],
   "source": [
    "{\n",
    "    let x = 4.0; // fp64\n",
    "    let y: f32 = 5.0; // fp32\n",
    "}"
   ]
  },
  {
   "cell_type": "code",
   "execution_count": 18,
   "id": "0db4c9ee-f42d-4e66-ae69-9df5dac7857c",
   "metadata": {
    "tags": [],
    "vscode": {
     "languageId": "rust"
    }
   },
   "outputs": [
    {
     "name": "stdout",
     "output_type": "stream",
     "text": [
      "sum = 15\n",
      "diff = 90\n",
      "product = 120\n",
      "truncated = -1\n",
      "quotient = 1.7608695652173911\n",
      "remainder = 3\n"
     ]
    },
    {
     "data": {
      "text/plain": [
       "()"
      ]
     },
     "execution_count": 18,
     "metadata": {},
     "output_type": "execute_result"
    }
   ],
   "source": [
    "// numeric operations\n",
    "{\n",
    "    // add\n",
    "    let sum = 5 + 10;\n",
    "    // sub\n",
    "    let diff = 95.5 - 5.5;\n",
    "    // mul\n",
    "    let product = 4 * 30;\n",
    "    // div\n",
    "    let quotient = 56.7 / 32.2;\n",
    "    let truncated = -5 / 3; // = -1\n",
    "    \n",
    "    // remainder\n",
    "    let remainder = 43 % 5;\n",
    "    \n",
    "    println!(\"sum = {}\", sum);\n",
    "    println!(\"diff = {}\", diff);\n",
    "    println!(\"product = {}\", product);\n",
    "    println!(\"quotient = {}\", quotient);\n",
    "    println!(\"truncated = {}\", truncated);\n",
    "    println!(\"remainder = {}\", remainder);\n",
    "}"
   ]
  },
  {
   "cell_type": "markdown",
   "id": "cb7818eb-d3d0-4a83-9fd9-83c8c01ab7a9",
   "metadata": {},
   "source": [
    "#### Boolean"
   ]
  },
  {
   "cell_type": "code",
   "execution_count": 19,
   "id": "e0563bba-6e86-4eea-8d4b-12cb05b2bab0",
   "metadata": {
    "tags": [],
    "vscode": {
     "languageId": "rust"
    }
   },
   "outputs": [
    {
     "name": "stdout",
     "output_type": "stream",
     "text": [
      "t: true, f: false\n"
     ]
    },
    {
     "data": {
      "text/plain": [
       "()"
      ]
     },
     "execution_count": 19,
     "metadata": {},
     "output_type": "execute_result"
    }
   ],
   "source": [
    "{\n",
    "    let t = true;\n",
    "    let f : bool = false;\n",
    "    \n",
    "    println!(\"t: {}, f: {}\", t, f);\n",
    "}"
   ]
  },
  {
   "cell_type": "markdown",
   "id": "814a2c27-33d3-4928-8341-3210e5e6f8ba",
   "metadata": {},
   "source": [
    "#### Character Type"
   ]
  },
  {
   "cell_type": "code",
   "execution_count": 22,
   "id": "34779207-e9e3-47d4-bffe-243bb3c57b4f",
   "metadata": {
    "tags": [],
    "vscode": {
     "languageId": "rust"
    }
   },
   "outputs": [
    {
     "name": "stdout",
     "output_type": "stream",
     "text": [
      "c: z, z: Z, emoji: 😻\n"
     ]
    },
    {
     "data": {
      "text/plain": [
       "()"
      ]
     },
     "execution_count": 22,
     "metadata": {},
     "output_type": "execute_result"
    }
   ],
   "source": [
    "{\n",
    "    let c = 'z';\n",
    "    let z : char = 'Z';\n",
    "    let heart_eyed_cat = '😻';  // win + . to input\n",
    "    \n",
    "    \n",
    "    println!(\"c: {}, z: {}, emoji: {}\", c, z, heart_eyed_cat);\n",
    "}"
   ]
  },
  {
   "cell_type": "markdown",
   "id": "14eb35aa-0301-406f-8fd4-75515c9dc3fe",
   "metadata": {},
   "source": [
    "### Compound Types\n",
    "\n",
    "Compound types can group multiple values into one type. Rust has two primitive compound types:\n",
    "- tuples\n",
    "- arrays."
   ]
  },
  {
   "cell_type": "code",
   "execution_count": 28,
   "id": "6bfc6a87-833d-41dd-a192-47d6072087b7",
   "metadata": {
    "tags": [],
    "vscode": {
     "languageId": "rust"
    }
   },
   "outputs": [
    {
     "name": "stdout",
     "output_type": "stream",
     "text": [
      "tup: (500, 6.4, 1), x = 500, first_val: 500\n"
     ]
    },
    {
     "data": {
      "text/plain": [
       "()"
      ]
     },
     "execution_count": 28,
     "metadata": {},
     "output_type": "execute_result"
    }
   ],
   "source": [
    "// tuple\n",
    "{\n",
    "    let tup: (i32, f64, u8) = (500, 6.4, 1);\n",
    "    let (x, y, z) = tup;\n",
    "    let first_val = tup.0;\n",
    "    \n",
    "    println!(\"tup: {:?}, x = {}, first_val: {}\", tup, x, first_val);\n",
    "}"
   ]
  },
  {
   "cell_type": "code",
   "execution_count": 5,
   "id": "1471aecb-117a-4523-acd9-f6ab2bc6e65c",
   "metadata": {
    "tags": [],
    "vscode": {
     "languageId": "rust"
    }
   },
   "outputs": [
    {
     "name": "stdout",
     "output_type": "stream",
     "text": [
      "a = [1, 2, 3, 4, 5]\n",
      "c = [3, 3, 3, 3, 3]\n",
      "months = [\"January\", \"February\", \"March\", \"April\", \"May\", \"June\", \"July\", \"August\", \"September\", \"October\", \"November\", \"December\"]\n",
      "first month = \"January\"\n"
     ]
    },
    {
     "data": {
      "text/plain": [
       "()"
      ]
     },
     "execution_count": 5,
     "metadata": {},
     "output_type": "execute_result"
    }
   ],
   "source": [
    "// array\n",
    "{\n",
    "    let a = [1, 2, 3, 4, 5];\n",
    "    let months = [\"January\", \"February\", \"March\", \"April\", \"May\", \"June\", \"July\",\n",
    "              \"August\", \"September\", \"October\", \"November\", \"December\"];\n",
    "    let b: [i32; 5] = [1, 2, 3, 4, 5]; // [dtypo; num]\n",
    "    let c = [3; 5]; // [val; num]\n",
    "    \n",
    "    println!(\"a = {:?}\", a);\n",
    "    println!(\"c = {:?}\", c);\n",
    "    println!(\"months = {:?}\", months);\n",
    "    println!(\"first month = {:?}\", months[0]);\n",
    "    // println!(\"invalid month = {:?}\", months[12]);\n",
    "    \n",
    "}"
   ]
  },
  {
   "cell_type": "markdown",
   "id": "1b0f7dfd-1ec8-4aa2-a27c-98bba073e0d1",
   "metadata": {},
   "source": [
    "# 3.3. Functions\n",
    "\n",
    "- `fn` to declare\n",
    "    - snake_case\n",
    "- "
   ]
  },
  {
   "cell_type": "code",
   "execution_count": 6,
   "id": "07f3e5e8-21cf-42fd-bd27-792ad5d772a4",
   "metadata": {
    "vscode": {
     "languageId": "rust"
    }
   },
   "outputs": [
    {
     "name": "stdout",
     "output_type": "stream",
     "text": [
      "Another function.\n"
     ]
    },
    {
     "data": {
      "text/plain": [
       "()"
      ]
     },
     "execution_count": 6,
     "metadata": {},
     "output_type": "execute_result"
    }
   ],
   "source": [
    "{\n",
    "    fn another_func() {\n",
    "        println!(\"Another function.\");\n",
    "    }\n",
    "\n",
    "    another_func()\n",
    "}"
   ]
  },
  {
   "cell_type": "code",
   "execution_count": 7,
   "id": "e2f8af28-a998-4b51-88ad-005354e30e2c",
   "metadata": {},
   "outputs": [
    {
     "name": "stdout",
     "output_type": "stream",
     "text": [
      "Another function, x = 32\n"
     ]
    },
    {
     "data": {
      "text/plain": [
       "()"
      ]
     },
     "execution_count": 7,
     "metadata": {},
     "output_type": "execute_result"
    }
   ],
   "source": [
    "{\n",
    "    fn another_func(x: i32) {\n",
    "        println!(\"Another function, x = {}\", x);\n",
    "    }\n",
    "    another_func(32)\n",
    "}"
   ]
  },
  {
   "cell_type": "code",
   "execution_count": 9,
   "id": "8fad058c-47b2-4ec2-a6e9-0232cd671756",
   "metadata": {},
   "outputs": [
    {
     "name": "stdout",
     "output_type": "stream",
     "text": [
      "x = 5, y = 5\n"
     ]
    },
    {
     "data": {
      "text/plain": [
       "()"
      ]
     },
     "execution_count": 9,
     "metadata": {},
     "output_type": "execute_result"
    }
   ],
   "source": [
    "{\n",
    "    let x = 5;\n",
    "\n",
    "    let y = {\n",
    "        let x = 1;\n",
    "        x + 4\n",
    "    };\n",
    "\n",
    "    println!(\"x = {}, y = {}\", x, y);\n",
    "}"
   ]
  },
  {
   "cell_type": "code",
   "execution_count": 10,
   "id": "c50038dd-a58f-4596-9221-afd11c5ab409",
   "metadata": {},
   "outputs": [
    {
     "name": "stdout",
     "output_type": "stream",
     "text": [
      "x = 5, y = 5\n"
     ]
    },
    {
     "data": {
      "text/plain": [
       "()"
      ]
     },
     "execution_count": 10,
     "metadata": {},
     "output_type": "execute_result"
    }
   ],
   "source": [
    "{\n",
    "    fn five() -> i32 {\n",
    "        5\n",
    "    }\n",
    "    fn ret_five() -> i32 {\n",
    "        return 5;\n",
    "    }\n",
    "\n",
    "    let x = five();\n",
    "    let y = ret_five();\n",
    "\n",
    "    println!(\"x = {}, y = {}\", x, y);\n",
    "}"
   ]
  },
  {
   "cell_type": "markdown",
   "id": "4d4719a3-17a8-43b4-9ba1-a7bb46205a51",
   "metadata": {},
   "source": [
    "# 3.4. Comments\n",
    "\n",
    "# 3.5. Control Flow\n",
    "## if"
   ]
  },
  {
   "cell_type": "code",
   "execution_count": 12,
   "id": "a20d4a9a-3356-43c9-a160-03723eccaad8",
   "metadata": {},
   "outputs": [
    {
     "name": "stdout",
     "output_type": "stream",
     "text": [
      "number is divisible by 3\n"
     ]
    },
    {
     "data": {
      "text/plain": [
       "()"
      ]
     },
     "execution_count": 12,
     "metadata": {},
     "output_type": "execute_result"
    }
   ],
   "source": [
    "{\n",
    "    let number = 6;\n",
    "\n",
    "    if number % 4 == 0 {\n",
    "        println!(\"number is divisible by 4\");\n",
    "    } else if number % 3 == 0 {\n",
    "        println!(\"number is divisible by 3\");\n",
    "    } else if number % 2 == 0 {\n",
    "        println!(\"number is divisible by 2\");\n",
    "    } else {\n",
    "        println!(\"number is not divisible by 4, 3, or 2\");\n",
    "    }\n",
    "}"
   ]
  },
  {
   "cell_type": "code",
   "execution_count": 13,
   "id": "5df42c53-15ce-4a8f-a443-89d3dc550346",
   "metadata": {},
   "outputs": [
    {
     "name": "stdout",
     "output_type": "stream",
     "text": [
      "x = 5\n"
     ]
    },
    {
     "data": {
      "text/plain": [
       "()"
      ]
     },
     "execution_count": 13,
     "metadata": {},
     "output_type": "execute_result"
    }
   ],
   "source": [
    "{\n",
    "    let condition = true;\n",
    "\n",
    "    let x = if condition { 5 } else { 6 };\n",
    "\n",
    "    println!(\"x = {}\", x)\n",
    "}"
   ]
  },
  {
   "cell_type": "markdown",
   "id": "76d8e48c-c8b2-4c7a-89d0-11488b799d42",
   "metadata": {},
   "source": [
    "## Loop\n",
    "\n",
    "- loop\n",
    "- while\n",
    "- for"
   ]
  },
  {
   "cell_type": "code",
   "execution_count": 17,
   "id": "c18627f0-bc65-4a00-8a1a-28fd2c8d0404",
   "metadata": {},
   "outputs": [
    {
     "name": "stdout",
     "output_type": "stream",
     "text": [
      "counter = 10\n",
      "result = 20\n"
     ]
    },
    {
     "data": {
      "text/plain": [
       "()"
      ]
     },
     "execution_count": 17,
     "metadata": {},
     "output_type": "execute_result"
    }
   ],
   "source": [
    "{\n",
    "    let mut counter = 0;\n",
    "\n",
    "    loop {\n",
    "        counter += 1;\n",
    "\n",
    "        if 10 == counter {\n",
    "            break counter * 2;\n",
    "        }\n",
    "    };\n",
    "    println!(\"counter = {}\", counter);\n",
    "\n",
    "    counter = 0;\n",
    "    let result = loop {\n",
    "        counter += 1;\n",
    "\n",
    "        if 10 == counter {\n",
    "            break counter * 2;\n",
    "        }\n",
    "    };\n",
    "    println!(\"result = {}\", result);\n",
    "}"
   ]
  },
  {
   "cell_type": "code",
   "execution_count": 20,
   "id": "89289e8f-0f42-4ed1-9dac-70833ed735e3",
   "metadata": {},
   "outputs": [
    {
     "name": "stdout",
     "output_type": "stream",
     "text": [
      "counter = 3\n",
      "counter = 2\n",
      "counter = 1\n",
      "TAKING OFF!!!.\n"
     ]
    },
    {
     "data": {
      "text/plain": [
       "()"
      ]
     },
     "execution_count": 20,
     "metadata": {},
     "output_type": "execute_result"
    }
   ],
   "source": [
    "{\n",
    "    let mut counter = 3;\n",
    "\n",
    "    while 0 != counter {\n",
    "        println!(\"counter = {}\", counter);\n",
    "        counter -= 1;\n",
    "    }\n",
    "    println!(\"TAKING OFF!!!.\");\n",
    "}"
   ]
  },
  {
   "cell_type": "code",
   "execution_count": 27,
   "id": "789341a7-33d7-4d6b-ab4f-1b0dbea57eff",
   "metadata": {},
   "outputs": [
    {
     "name": "stdout",
     "output_type": "stream",
     "text": [
      "the value is 10\n",
      "the value is 20\n",
      "the value is 30\n",
      "the value is 40\n",
      "the value is 50\n"
     ]
    },
    {
     "data": {
      "text/plain": [
       "()"
      ]
     },
     "execution_count": 27,
     "metadata": {},
     "output_type": "execute_result"
    }
   ],
   "source": [
    "{\n",
    "    let a: [u32; 5] = [10, 20, 30, 40, 50];\n",
    "\n",
    "    for elem in a.iter() {\n",
    "        println!(\"the value is {}\", elem);\n",
    "    }\n",
    "}"
   ]
  },
  {
   "cell_type": "code",
   "execution_count": 28,
   "id": "b21fc651-e915-4991-aecf-a94c5464090b",
   "metadata": {},
   "outputs": [
    {
     "name": "stdout",
     "output_type": "stream",
     "text": [
      "count = 3\n",
      "count = 2\n",
      "count = 1\n",
      "TAKING OFF!!!.\n"
     ]
    },
    {
     "data": {
      "text/plain": [
       "()"
      ]
     },
     "execution_count": 28,
     "metadata": {},
     "output_type": "execute_result"
    }
   ],
   "source": [
    "{\n",
    "    for count in (1..4).rev() {\n",
    "        println!(\"count = {}\", count);\n",
    "    }\n",
    "    println!(\"TAKING OFF!!!.\");\n",
    "}"
   ]
  },
  {
   "cell_type": "code",
   "execution_count": null,
   "id": "8dc63113-213e-4c68-a503-7604cee8e352",
   "metadata": {},
   "outputs": [],
   "source": []
  }
 ],
 "metadata": {
  "kernelspec": {
   "display_name": "Rust",
   "language": "rust",
   "name": "rust"
  },
  "language_info": {
   "codemirror_mode": "rust",
   "file_extension": ".rs",
   "mimetype": "text/rust",
   "name": "Rust",
   "pygment_lexer": "rust",
   "version": ""
  }
 },
 "nbformat": 4,
 "nbformat_minor": 5
}
