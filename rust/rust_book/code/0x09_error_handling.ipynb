{
 "cells": [
  {
   "cell_type": "markdown",
   "id": "06f4eee0-6cfd-42e2-a275-e273002bcca7",
   "metadata": {},
   "source": [
    "# 9. Error Handling\n",
    "\n",
    "Rust groups errors into two major categories\n",
    "- recoverable (`Result<T, E>`)\n",
    "- unrecoverable (`panic!`)\n",
    "\n",
    "## 9.1. Unrecoverable Errors with `panic!`\n",
    "\n",
    "`panic!` macro in Rust was used for the fatal errors in program, it could be caused by:\n",
    "- some actions that cause the panic\n",
    "- Explicitly calling the `panic!`\n",
    "\n",
    "```\n",
    "# Unwinding the Stack or Aborting in Response to a Panic\n",
    "By default, when a panic occurs, the program starts unwinding, which means Rust walks back up the stack and cleans up the data from each function it encounters.\n",
    "\n",
    "However, this walking back and cleanup is a lot of work. Rust, therefore, allows you to choose the alternative of immediately aborting, which ends the program without cleaning up.\n",
    "```\n",
    "\n",
    "```toml\n",
    "# Cargo.tomp\n",
    "[profile.release]\r\n",
    "panic = 'abort'\n",
    "```"
   ]
  },
  {
   "cell_type": "code",
   "execution_count": 2,
   "id": "f31e6d54-6a4e-4795-9292-045877425d1b",
   "metadata": {},
   "outputs": [
    {
     "name": "stderr",
     "output_type": "stream",
     "text": [
      "thread '<unnamed>' panicked at 'crash and burn.', src/lib.rs:23:5\n",
      "stack backtrace:\n",
      "   0: rust_begin_unwind\n",
      "             at /rustc/5680fa18feaa87f3ff04063800aec256c3d4b4be/library/std/src/panicking.rs:593:5\n",
      "   1: core::panicking::panic_fmt\n",
      "   2: run_user_code_1\n",
      "             at /rustc/5680fa18feaa87f3ff04063800aec256c3d4b4be/library/core/src/panicking.rs:67:14\n",
      "   3: evcxr::runtime::Runtime::run_loop\n",
      "   4: evcxr::runtime::runtime_hook\n",
      "   5: evcxr_jupyter::main\n",
      "note: Some details are omitted, run with `RUST_BACKTRACE=full` for a verbose backtrace.\n"
     ]
    }
   ],
   "source": [
    "{\n",
    "    panic!(\"crash and burn.\");\n",
    "}"
   ]
  },
  {
   "cell_type": "markdown",
   "id": "8b6f228b-352d-42c2-b070-4dcddbb2066a",
   "metadata": {},
   "source": [
    "### Using a panic! Backtrace\n",
    "\n",
    "The next note line tells us that we can set the `RUST_BACKTRACE` environment variable to get a backtrace of exactly what happened to cause the error.\n",
    "\n",
    "In order to get backtraces with this information, debug symbols must be enabled. \n",
    "\n",
    "```bash\n",
    "$ RUST_BACKTRACE=1 cargo run\r\n",
    "thread 'main' panicked at 'index out of bounds: the len is 3 but the index is 99', src/main.rs:4:5\r\n",
    "stack backtrace:\r\n",
    "   0: rust_begin_unwind\r\n",
    "             at /rustc/e092d0b6b43f2de967af0887873151bb1c0b18d3/library/std/src/panicking.rs:584:5\r\n",
    "   1: core::panicking::panic_fmt\r\n",
    "             at /rustc/e092d0b6b43f2de967af0887873151bb1c0b18d3/library/core/src/panicking.rs:142:14\r\n",
    "   2: core::panicking::panic_bounds_check\r\n",
    "             at /rustc/e092d0b6b43f2de967af0887873151bb1c0b18d3/library/core/src/panicking.rs:84:5\r\n",
    "   3: <usize as core::slice::index::SliceIndex<[T]>>::index\r\n",
    "             at /rustc/e092d0b6b43f2de967af0887873151bb1c0b18d3/library/core/src/slice/index.rs:242:10\r\n",
    "   4: core::slice::index::<impl core::ops::index::Index<I> for [T]>::index\r\n",
    "             at /rustc/e092d0b6b43f2de967af0887873151bb1c0b18d3/library/core/src/slice/index.rs:18:9\r\n",
    "   5: <alloc::vec::Vec<T,A> as core::ops::index::Index<I>>::index\r\n",
    "             at /rustc/e092d0b6b43f2de967af0887873151bb1c0b18d3/library/alloc/src/vec/mod.rs:2591:9\r\n",
    "   6: panic::main\r\n",
    "             at ./src/main.rs:4:5\r\n",
    "   7: core::ops::function::FnOnce::call_once\r\n",
    "             at /rustc/e092d0b6b43f2de967af0887873151bb1c0b18d3/library/core/src/ops/function.rs:248:5\r\n",
    "note: Some details are omitted, run with `RUST_BACKTRACE=full` for a verbose backtrace.\r\n",
    "\n",
    "```"
   ]
  },
  {
   "cell_type": "markdown",
   "id": "112f459e-aa9b-46b8-8d0c-201b14ac0d1f",
   "metadata": {},
   "source": [
    "## 9.2. Recoverable Errors with Result\n",
    "\n",
    "`Result` enum is defined as having two variants, `Ok` and `Err`, as follows:\n",
    "```rust\n",
    "enum Result<T, E> {\r\n",
    "    Ok(T),\r\n",
    "    Err(E),\n",
    "}\r\n",
    "\n",
    "\n",
    "In the below demo:\n",
    "\n",
    "- Return type of `File::open` is a `Result<T, E>`\n",
    "- T -> `std::fs::File` (OK value)\n",
    "- E -> `std::io::Error` (ERR value)\n",
    "```"
   ]
  },
  {
   "cell_type": "code",
   "execution_count": 5,
   "id": "cb6c6a17-0d8d-4868-9e2d-63715caacfe3",
   "metadata": {},
   "outputs": [
    {
     "name": "stderr",
     "output_type": "stream",
     "text": [
      "thread '<unnamed>' panicked at 'Problem opening the file: Os { code: 2, kind: NotFound, message: \"No such file or directory\" }', src/lib.rs:29:23\n",
      "stack backtrace:\n",
      "   0: rust_begin_unwind\n",
      "             at /rustc/5680fa18feaa87f3ff04063800aec256c3d4b4be/library/std/src/panicking.rs:593:5\n",
      "   1: core::panicking::panic_fmt\n",
      "             at /rustc/5680fa18feaa87f3ff04063800aec256c3d4b4be/library/core/src/panicking.rs:67:14\n",
      "   2: <unknown>\n",
      "   3: <unknown>\n",
      "   5: evcxr::runtime::runtime_hook\n",
      "   6: evcxr_jupyter::main\n",
      "   4: evcxr::runtime::Runtime::run_loop\n",
      "note: Some details are omitted, run with `RUST_BACKTRACE=full` for a verbose backtrace.\n"
     ]
    }
   ],
   "source": [
    "{\n",
    "    use std::fs::File;\n",
    "\n",
    "    let greeting_file_result = File::open(\"hello.txt\");\n",
    "\n",
    "    let greeting_file = match greeting_file_result {\n",
    "        Ok(file) => file,\n",
    "        Err(error) => panic!(\"Problem opening the file: {:?}\", error),\n",
    "    };\n",
    "}"
   ]
  },
  {
   "cell_type": "markdown",
   "id": "6210373a-76ec-4ad5-bd22-c3604909b151",
   "metadata": {},
   "source": [
    "### Matching on Different Errors"
   ]
  },
  {
   "cell_type": "code",
   "execution_count": 8,
   "id": "7bbda2b5-1323-4b77-aa88-fd729c2be5d6",
   "metadata": {},
   "outputs": [
    {
     "name": "stdout",
     "output_type": "stream",
     "text": [
      "created non-exist hello.txt\n"
     ]
    },
    {
     "data": {
      "text/plain": [
       "()"
      ]
     },
     "execution_count": 8,
     "metadata": {},
     "output_type": "execute_result"
    }
   ],
   "source": [
    "{\n",
    "    use std::fs::File;\n",
    "    use std::io::ErrorKind;\n",
    "\n",
    "    let greeting_file_result = File::open(\"hello.txt\");\n",
    "\n",
    "    let greeting_file = match greeting_file_result {\n",
    "        Ok(file) => file,\n",
    "        Err(error) => match error.kind() {\n",
    "            ErrorKind::NotFound => match File::create(\"hello.txt\") {\n",
    "                Ok(fc) => {\n",
    "                    println!(\"created non-exist hello.txt\");\n",
    "                    fc\n",
    "                },\n",
    "                Err(e) => panic!(\"Problem creating the file: {:?}\", e),\n",
    "            },\n",
    "            other_error => {\n",
    "                panic!(\"Problem opening the file: {:?}\", other_error);\n",
    "            }\n",
    "        }\n",
    "    };\n",
    "}"
   ]
  },
  {
   "cell_type": "code",
   "execution_count": 9,
   "id": "915b7b12-d540-421a-aa77-4d47b871ea9f",
   "metadata": {},
   "outputs": [
    {
     "data": {
      "text/plain": [
       "()"
      ]
     },
     "execution_count": 9,
     "metadata": {},
     "output_type": "execute_result"
    }
   ],
   "source": [
    "{\n",
    "    use std::fs::File;\n",
    "    use std::io::ErrorKind;\n",
    "\n",
    "    let greeting_file_result = File::open(\"hello.txt\").unwrap_or_else(|error| {\n",
    "        if error.kind() == ErrorKind::NotFound {\n",
    "            File::create(\"hello.txt\").unwrap_or_else(|error| {\n",
    "                panic!(\"Problem creating the file: {:?}\", error);\n",
    "            })\n",
    "        } else {\n",
    "            panic!(\"Problem opening the file: {:?}\", error);\n",
    "        }\n",
    "    });\n",
    "}"
   ]
  },
  {
   "cell_type": "markdown",
   "id": "78e59852-b63c-4e75-afe1-63a671e35fa3",
   "metadata": {},
   "source": [
    "### Shortcuts for Panic on Error: unwrap and expect\n",
    "\n",
    "The `Result<T, E>` type has many helper methods defined on it to do various, more specific tasks.\n",
    "\n",
    "- `unwrap` : the single match case\n",
    "    - OK\n",
    "    - panic!\n",
    "- `expect` : give chance to choose panic message\n"
   ]
  },
  {
   "cell_type": "code",
   "execution_count": 11,
   "id": "711d273b-944e-4104-8f0c-323f310bb1da",
   "metadata": {},
   "outputs": [
    {
     "name": "stderr",
     "output_type": "stream",
     "text": [
      "thread '<unnamed>' panicked at 'called `Result::unwrap()` on an `Err` value: Os { code: 2, kind: NotFound, message: \"No such file or directory\" }', src/lib.rs:25:49\n",
      "stack backtrace:\n",
      "   0: rust_begin_unwind\n",
      "             at /rustc/5680fa18feaa87f3ff04063800aec256c3d4b4be/library/std/src/panicking.rs:593:5\n",
      "   1: core::panicking::panic_fmt\n",
      "             at /rustc/5680fa18feaa87f3ff04063800aec256c3d4b4be/library/core/src/panicking.rs:67:14\n",
      "   2: core::result::unwrap_failed\n",
      "             at /rustc/5680fa18feaa87f3ff04063800aec256c3d4b4be/library/core/src/result.rs:1651:5\n",
      "   3: <unknown>\n",
      "   4: <unknown>\n",
      "   5: evcxr::runtime::Runtime::run_loop\n",
      "   6: evcxr::runtime::runtime_hook\n",
      "   7: evcxr_jupyter::main\n",
      "note: Some details are omitted, run with `RUST_BACKTRACE=full` for a verbose backtrace.\n"
     ]
    }
   ],
   "source": [
    "{\n",
    "    use std::fs::File;\n",
    "\n",
    "    let greeting_file = File::open(\"hello.txt\").unwrap();\n",
    "}"
   ]
  },
  {
   "cell_type": "code",
   "execution_count": 12,
   "id": "ec2488c3-3b55-45b1-bf29-8018da3cb8d2",
   "metadata": {},
   "outputs": [
    {
     "name": "stderr",
     "output_type": "stream",
     "text": [
      "thread '<unnamed>' panicked at 'hello.txt not found.: Os { code: 2, kind: NotFound, message: \"No such file or directory\" }', src/lib.rs:25:49\n",
      "stack backtrace:\n",
      "   0: rust_begin_unwind\n",
      "             at /rustc/5680fa18feaa87f3ff04063800aec256c3d4b4be/library/std/src/panicking.rs:593:5\n",
      "   1: core::panicking::panic_fmt\n",
      "             at /rustc/5680fa18feaa87f3ff04063800aec256c3d4b4be/library/core/src/panicking.rs:67:14\n",
      "   2: core::result::unwrap_failed\n",
      "             at /rustc/5680fa18feaa87f3ff04063800aec256c3d4b4be/library/core/src/result.rs:1651:5\n",
      "   3: <unknown>\n",
      "   4: <unknown>\n",
      "   5: evcxr::runtime::Runtime::run_loop\n",
      "   6: evcxr::runtime::runtime_hook\n",
      "   7: evcxr_jupyter::main\n",
      "note: Some details are omitted, run with `RUST_BACKTRACE=full` for a verbose backtrace.\n"
     ]
    }
   ],
   "source": [
    "{\n",
    "    use std::fs::File;\n",
    "\n",
    "    let greeting_file = File::open(\"hello.txt\").expect(\"hello.txt not found.\");\n",
    "}"
   ]
  },
  {
   "cell_type": "markdown",
   "id": "a1acacf3-c802-49c2-a65d-7cc3cbffd835",
   "metadata": {},
   "source": [
    "### Propagating Errors\n",
    "\n",
    "A function, which might fail, we could return the error to the caller instead of handling it in the function."
   ]
  },
  {
   "cell_type": "code",
   "execution_count": 15,
   "id": "6da33105-a3c7-4d61-9ef8-c424021ebd9b",
   "metadata": {},
   "outputs": [
    {
     "name": "stderr",
     "output_type": "stream",
     "text": [
      "thread '<unnamed>' panicked at 'called `Result::unwrap()` on an `Err` value: Os { code: 2, kind: NotFound, message: \"No such file or directory\" }', src/lib.rs:41:31\n",
      "stack backtrace:\n",
      "   0: rust_begin_unwind\n",
      "             at /rustc/5680fa18feaa87f3ff04063800aec256c3d4b4be/library/std/src/panicking.rs:593:5\n",
      "   1: core::panicking::panic_fmt\n",
      "             at /rustc/5680fa18feaa87f3ff04063800aec256c3d4b4be/library/core/src/panicking.rs:67:14\n",
      "   2: core::result::unwrap_failed\n",
      "   3: <unknown>\n",
      "             at /rustc/5680fa18feaa87f3ff04063800aec256c3d4b4be/library/core/src/result.rs:1651:5\n",
      "   4: <unknown>\n",
      "   5: evcxr::runtime::Runtime::run_loop\n",
      "   6: evcxr::runtime::runtime_hook\n",
      "   7: evcxr_jupyter::main\n",
      "note: Some details are omitted, run with `RUST_BACKTRACE=full` for a verbose backtrace.\n"
     ]
    }
   ],
   "source": [
    "{\n",
    "    // 9-6\n",
    "    use std::fs::File;\n",
    "    use std::io::{self, Read};\n",
    "\n",
    "    fn read_username_from_file() -> Result<String, io::Error> {\n",
    "        let username_file_result = File::open(\"hello.txt\");\n",
    "\n",
    "        let mut username_file = match username_file_result {\n",
    "            Ok(file) => file,\n",
    "            Err(e) => return Err(e),\n",
    "        };\n",
    "\n",
    "        let mut username = String::new();\n",
    "        match username_file.read_to_string(&mut username) {\n",
    "            Ok(_) => Ok(username),\n",
    "            Err(e) => Err(e),\n",
    "        }\n",
    "    }\n",
    "\n",
    "    read_username_from_file().unwrap();\n",
    "}"
   ]
  },
  {
   "cell_type": "markdown",
   "id": "954adf62-05f6-4f68-b456-e45b7abc6c1d",
   "metadata": {},
   "source": [
    "### A Shortcut for Propagating Errors: the ? Operator\n",
    "\n",
    "The `?` placed after a Result value is defined to work in almost the same way as the match expressions we defined to handle the `Result` values in 9-6 demo.\n",
    "\n",
    "If the value of the `Result` is an `Ok`, the value inside the `Ok` will get returned from this expression, and the program will continue\n",
    "\n",
    "If the value is an `Err`, the `Err` will **be returned from the whole function as if we had used the return keyword** so the error value gets propagated to the calling code."
   ]
  },
  {
   "cell_type": "code",
   "execution_count": 16,
   "id": "c293137f-e89e-4e77-a262-59b09e8d25a2",
   "metadata": {},
   "outputs": [
    {
     "name": "stderr",
     "output_type": "stream",
     "text": [
      "thread '<unnamed>' panicked at 'called `Result::unwrap()` on an `Err` value: Os { code: 2, kind: NotFound, message: \"No such file or directory\" }', src/lib.rs:33:31\n",
      "stack backtrace:\n",
      "   0: rust_begin_unwind\n",
      "             at /rustc/5680fa18feaa87f3ff04063800aec256c3d4b4be/library/std/src/panicking.rs:593:5\n",
      "   1: core::panicking::panic_fmt\n",
      "             at /rustc/5680fa18feaa87f3ff04063800aec256c3d4b4be/library/core/src/panicking.rs:67:14\n",
      "   2: core::result::unwrap_failed\n",
      "             at /rustc/5680fa18feaa87f3ff04063800aec256c3d4b4be/library/core/src/result.rs:1651:5\n",
      "   3: <unknown>\n",
      "   4: <unknown>\n",
      "   5: evcxr::runtime::Runtime::run_loop\n",
      "   6: evcxr::runtime::runtime_hook\n",
      "   7: evcxr_jupyter::main\n",
      "note: Some details are omitted, run with `RUST_BACKTRACE=full` for a verbose backtrace.\n"
     ]
    }
   ],
   "source": [
    "{\n",
    "    use std::fs::File;\n",
    "    use std::io::{self, Read};\n",
    "\n",
    "    fn read_username_from_file() -> Result<String, io::Error> {\n",
    "        let mut username_file = File::open(\"hello.txt\")?;\n",
    "        let mut username = String::new();\n",
    "        username_file.read_to_string(&mut username)?;\n",
    "        Ok(username)\n",
    "    }\n",
    "\n",
    "    read_username_from_file().unwrap();\n",
    "}"
   ]
  },
  {
   "cell_type": "code",
   "execution_count": 17,
   "id": "a8b06806-3dce-4fa5-99eb-cf6ee09463db",
   "metadata": {},
   "outputs": [
    {
     "name": "stderr",
     "output_type": "stream",
     "text": [
      "thread '<unnamed>' panicked at 'called `Result::unwrap()` on an `Err` value: Os { code: 2, kind: NotFound, message: \"No such file or directory\" }', src/lib.rs:32:31\n",
      "stack backtrace:\n",
      "             at /rustc/5680fa18feaa87f3ff04063800aec256c3d4b4be/library/std/src/panicking.rs:593:5\n",
      "   0: rust_begin_unwind\n",
      "   1: core::panicking::panic_fmt\n",
      "             at /rustc/5680fa18feaa87f3ff04063800aec256c3d4b4be/library/core/src/panicking.rs:67:14\n",
      "   2: core::result::unwrap_failed\n",
      "             at /rustc/5680fa18feaa87f3ff04063800aec256c3d4b4be/library/core/src/result.rs:1651:5\n",
      "   3: <unknown>\n",
      "   4: <unknown>\n",
      "   5: evcxr::runtime::Runtime::run_loop\n",
      "   6: evcxr::runtime::runtime_hook\n",
      "   7: evcxr_jupyter::main\n",
      "note: Some details are omitted, run with `RUST_BACKTRACE=full` for a verbose backtrace.\n"
     ]
    }
   ],
   "source": [
    "{\n",
    "    use std::fs::File;\n",
    "    use std::io::{self, Read};\n",
    "\n",
    "    fn read_username_from_file() -> Result<String, io::Error> {\n",
    "        let mut username = String::new();\n",
    "        File::open(\"hello.txt\")?.read_to_string(&mut username)?;\n",
    "        Ok(username)\n",
    "    }\n",
    "\n",
    "    read_username_from_file().unwrap();\n",
    "}"
   ]
  },
  {
   "cell_type": "markdown",
   "id": "90963d38-624a-4770-8f14-07317be4bd54",
   "metadata": {},
   "source": [
    "### Where The `?` Operator Can Be Used\n",
    "\n",
    "The return type of the function has to be a `Result` so that it’s compatible with this return.\n",
    "\n",
    "The below code will fail if not in notebook, the reason is that `main` function return type is `()`.\n",
    "\n",
    "```rust\n",
    "{\n",
    "    use std::fs::File;\n",
    "\n",
    "    let greeting_file = File::open(\"hello.txt\")?;\n",
    "}\n",
    "```\n",
    "\n",
    "```bash\n",
    "$ cargo run\r\n",
    "   Compiling error-handling v0.1.0 (file:///projects/error-handling)\r\n",
    "error[E0277]: the `?` operator can only be used in a function that returns `Result` or `Option` (or another type that implements `FromResidual`)\r\n",
    " --> src/main.rs:4:48\r\n",
    "  |\r\n",
    "3 | fn main() {\r\n",
    "  | --------- this function should return `Result` or `Option` to accept `?`\r\n",
    "4 |     let greeting_file = File::open(\"hello.txt\")?;\r\n",
    "  |                                                ^ cannot use the `?` operator in a function that returns `()`\r\n",
    "  |\r\n",
    "  = help: the trait `FromResidual<Result<Infallible, std::io::Error>>` is not implemented for `()`\r\n",
    "\r\n",
    "For more information about this error, try `rustc --explain E0277`.\r\n",
    "error: could not compile `error-handling` due to previo\n",
    "\n",
    "This error points out that we’re only allowed to use the `?` operator in a function that returns `Result`, `Option`, or another type that implements `FromResidual`.\n",
    "\n",
    "-  The other technique is to use a match or one of the Result<T, E> methods to handle the Result<T, E>\n",
    "-  The error message also mentioned that ? can be used with Option<T> values as well\n",
    "    -  if the value is None, the None will be returned early from the function at that point\n",
    "    -  If the value is Some, the value inside the Some is the resulting value of the expression and the function continues\n",
    "-  Change return type of `main`\n",
    "```rust\n",
    "use std::error::Error;\r\n",
    "use std::fs::File;\r\n",
    "\r\n",
    "fn main() -> Result<(), Box<dyn Error>> {\r\n",
    "    let greeting_file = File::open(\"hello.txt\")?;\r\n",
    "\r\n",
    "    Ok(())\r\n",
    "}\n",
    "```us error\r\n",
    "\n",
    "```"
   ]
  },
  {
   "cell_type": "markdown",
   "id": "3aa8f7d0-b75f-4ece-8ec2-82e7fde73aa1",
   "metadata": {},
   "source": [
    "## 9.3. To `panic!` or Not to `panic!`"
   ]
  },
  {
   "cell_type": "code",
   "execution_count": 19,
   "id": "9a5283c0-dc7c-4ced-aefb-fc8b37d49bc0",
   "metadata": {},
   "outputs": [
    {
     "name": "stderr",
     "output_type": "stream",
     "text": [
      "No such file or directory (os error 2)\n"
     ]
    }
   ],
   "source": []
  },
  {
   "cell_type": "code",
   "execution_count": null,
   "id": "2d209e03-8b49-4029-8602-b3bb0d64d385",
   "metadata": {},
   "outputs": [],
   "source": []
  }
 ],
 "metadata": {
  "kernelspec": {
   "display_name": "Rust",
   "language": "rust",
   "name": "rust"
  },
  "language_info": {
   "codemirror_mode": "rust",
   "file_extension": ".rs",
   "mimetype": "text/rust",
   "name": "Rust",
   "pygment_lexer": "rust",
   "version": ""
  }
 },
 "nbformat": 4,
 "nbformat_minor": 5
}
