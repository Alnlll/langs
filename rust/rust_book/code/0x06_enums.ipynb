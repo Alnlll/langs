{
 "cells": [
  {
   "cell_type": "markdown",
   "id": "e0c7fadd-c2e1-4921-9a8f-195f2d17dfe5",
   "metadata": {},
   "source": [
    "# 6. Enums and Pattern Matching\n",
    "\n",
    "Enums give you a way of saying a value is one of a possible set of values"
   ]
  },
  {
   "cell_type": "code",
   "execution_count": null,
   "id": "eb429b97-3d31-4539-89aa-97dd70fcf14f",
   "metadata": {},
   "outputs": [],
   "source": [
    "{\n",
    "    enum IpAddrKind {\n",
    "        V4,\n",
    "        V6,\n",
    "    }\n",
    "\n",
    "    struct IpAddr {\n",
    "        kind: IpAddrKind,\n",
    "        address: String,\n",
    "    }\n",
    "\n",
    "    let home = IpAddr {\n",
    "        kind: V4,\n",
    "        address: String::from(\"127.0.0.1\"),\n",
    "    };\n",
    "\n",
    "    let loopback = IpAddr {\n",
    "        kind: IpAddrKind::V6,\n",
    "        address: String::from(\"::1\"),\n",
    "}"
   ]
  },
  {
   "cell_type": "code",
   "execution_count": 2,
   "id": "6f6557fe-50ba-44d5-b900-955a093050cd",
   "metadata": {},
   "outputs": [
    {
     "data": {
      "text/plain": [
       "()"
      ]
     },
     "execution_count": 2,
     "metadata": {},
     "output_type": "execute_result"
    }
   ],
   "source": [
    "{\n",
    "    enum IpAddr {\n",
    "        V4(String),\n",
    "        V6(String),\n",
    "    }\n",
    "\n",
    "    let home = IpAddr::V4(String::from(\"127.0.0.1\"));\n",
    "\n",
    "    let loopback = IpAddr::V6(String::from(\"::1\"));\n",
    "}"
   ]
  },
  {
   "cell_type": "code",
   "execution_count": 3,
   "id": "12a17e84-38d8-40ff-82c0-a7ee6af74f1d",
   "metadata": {},
   "outputs": [
    {
     "data": {
      "text/plain": [
       "()"
      ]
     },
     "execution_count": 3,
     "metadata": {},
     "output_type": "execute_result"
    }
   ],
   "source": [
    "{\n",
    "    enum IpAddr {\n",
    "        V4(u8, u8, u8, u8),\n",
    "        V6(String),\n",
    "    }\n",
    "\n",
    "    let home = IpAddr::V4(127, 0, 0, 1);\n",
    "\n",
    "    let loopback = IpAddr::V6(String::from(\"::1\"));\n",
    "}"
   ]
  },
  {
   "cell_type": "code",
   "execution_count": 5,
   "id": "d3cdbd4e-2800-4539-b2fa-60cdfe65cc39",
   "metadata": {},
   "outputs": [
    {
     "data": {
      "text/plain": [
       "()"
      ]
     },
     "execution_count": 5,
     "metadata": {},
     "output_type": "execute_result"
    }
   ],
   "source": [
    "{\n",
    "    struct Ipv4Addr {\n",
    "        // --snip--\n",
    "    }\n",
    "    \n",
    "    struct Ipv6Addr {\n",
    "        // --snip--\n",
    "    }\n",
    "    \n",
    "    enum IpAddr {\n",
    "        V4(Ipv4Addr),\n",
    "        V6(Ipv6Addr),\n",
    "    }\n",
    "}"
   ]
  },
  {
   "cell_type": "markdown",
   "id": "f442682e-5b32-487d-a57c-d24b41811088",
   "metadata": {},
   "source": [
    "The below has a wide variety of types embedded in its variants\n",
    "\n",
    "- `Quit` has no data associated with it at all.\n",
    "- `Move` has named fields, like a struct does\n",
    "- `Write` includes a single String\n",
    "- `ChangeColor` includes three i32 values.\n",
    "\n",
    "It's similar `struct` definition will be like the below demo.es."
   ]
  },
  {
   "cell_type": "code",
   "execution_count": 6,
   "id": "d5b6f0f5-e40d-4a4e-a7a5-66522ff9e342",
   "metadata": {},
   "outputs": [
    {
     "data": {
      "text/plain": [
       "()"
      ]
     },
     "execution_count": 6,
     "metadata": {},
     "output_type": "execute_result"
    }
   ],
   "source": [
    "{\n",
    "    enum Message {\n",
    "        Quit,\n",
    "        Move { x: i32, y: i32 },\n",
    "        Write(String),\n",
    "        ChangeColor(i32, i32, i32),\n",
    "    }\n",
    "\n",
    "    struct QuitMessage; // unit struct\n",
    "    struct MoveMessage {\n",
    "        x: i32,\n",
    "        y: i32\n",
    "    }\n",
    "    struct WriteMessage(String); // tuple struct\n",
    "    struct ChangeColorMessage(i32, i32, i32); // tuple struct \n",
    "}"
   ]
  },
  {
   "cell_type": "markdown",
   "id": "773ab0bd-4239-4f52-b726-6d988423e194",
   "metadata": {},
   "source": [
    "There is one more similarity between enums and structs: just as we’re able to define methods on structs using impl, we’re also able to define methods on enums\n",
    "\n",
    "*Note*: enum is more like union here, corresponding method needs to decide the type of `self` first."
   ]
  },
  {
   "cell_type": "code",
   "execution_count": 11,
   "id": "7d2c0e3e-e3e7-4fb2-ac2d-875e0fd6fa79",
   "metadata": {},
   "outputs": [
    {
     "name": "stdout",
     "output_type": "stream",
     "text": [
      "Write: hello\n"
     ]
    },
    {
     "data": {
      "text/plain": [
       "()"
      ]
     },
     "execution_count": 11,
     "metadata": {},
     "output_type": "execute_result"
    }
   ],
   "source": [
    "{\n",
    "    enum Message {\n",
    "        Quit,\n",
    "        Move { x: i32, y: i32 },\n",
    "        Write(String),\n",
    "        ChangeColor(i32, i32, i32),\n",
    "    }\n",
    "\n",
    "    impl Message {\n",
    "        fn call(&self) {\n",
    "            match self {\n",
    "                Message::Write(m) => println!(\"Write: {}\", m),\n",
    "                _ => println!(\"Not Write type\"),\n",
    "            \n",
    "            }\n",
    "        }\n",
    "    }\n",
    "\n",
    "    let m = Message::Write(String::from(\"hello\"));\n",
    "    m.call();\n",
    "}"
   ]
  },
  {
   "cell_type": "markdown",
   "id": "9cfb4b30-62d6-4925-838f-3fe84885a126",
   "metadata": {},
   "source": [
    "## The Option Enum and Its Advantages Over Null Values\n",
    "\n",
    "The `Option` type encodes the very common scenario in which a value could **be something or it could be nothing**.\n",
    "\n",
    "Rust doesn’t have the null feature that many other languages have. The problem with null values is that if you try to use a null value as a not-null value, you’ll get an error of some kind.\n",
    "\n",
    "However, the concept that null is trying to express is still a useful one: a null is a value that is currently invalid or absent for some reason.\n",
    "\n",
    "Rust does not have nulls, but it does have an enum that can encode the concept of a value being present or absent"
   ]
  },
  {
   "cell_type": "code",
   "execution_count": null,
   "id": "326f7d59-089d-482d-842b-91fb27e364f3",
   "metadata": {},
   "outputs": [],
   "source": [
    "{\n",
    "    // demo of Option definition\n",
    "    enum OptionX<T> {\n",
    "        None,\n",
    "        Some(T),\n",
    "    }\n",
    "}"
   ]
  },
  {
   "cell_type": "code",
   "execution_count": 13,
   "id": "06e8d93d-80a8-4e33-afd0-a7cbb0f458e4",
   "metadata": {},
   "outputs": [
    {
     "data": {
      "text/plain": [
       "()"
      ]
     },
     "execution_count": 13,
     "metadata": {},
     "output_type": "execute_result"
    }
   ],
   "source": [
    "{\n",
    "    let some_num = Some(5);\n",
    "    let some_char = Some(b'e');\n",
    "\n",
    "    let absent_number: Option<i32> = None;\n",
    "}"
   ]
  },
  {
   "cell_type": "markdown",
   "id": "44d6a569-2d62-4100-8684-484b21832ace",
   "metadata": {},
   "source": [
    "In short, because `Option<T>` and `T` (where T can be any type) are different types, the compiler won’t let us use an `Option<T>` value as if it were definitely a valid value. For example, this code won’t compile, because it’s trying to add an i8 to an `Option<i8>`.\n",
    "\n",
    "In other words, you have to convert an `Option<T>` to a T before you can perform T operations with it. Generally, this helps catch one of the most common issues with null: assuming that something isn’t null when it actually is."
   ]
  },
  {
   "cell_type": "code",
   "execution_count": 14,
   "id": "c99110ad-d0d1-4420-bb4f-a9af3cbf3632",
   "metadata": {},
   "outputs": [
    {
     "ename": "Error",
     "evalue": "cannot add `Option<i8>` to `i8`",
     "output_type": "error",
     "traceback": [
      "\u001b[31m[E0277] Error:\u001b[0m cannot add `Option<i8>` to `i8`",
      "   \u001b[38;5;246m╭\u001b[0m\u001b[38;5;246m─\u001b[0m\u001b[38;5;246m[\u001b[0mcommand_14:1:1\u001b[38;5;246m]\u001b[0m",
      "   \u001b[38;5;246m│\u001b[0m",
      " \u001b[38;5;246m5 │\u001b[0m \u001b[38;5;249m \u001b[0m\u001b[38;5;249m \u001b[0m\u001b[38;5;249m \u001b[0m\u001b[38;5;249m \u001b[0m\u001b[38;5;249ml\u001b[0m\u001b[38;5;249me\u001b[0m\u001b[38;5;249mt\u001b[0m\u001b[38;5;249m \u001b[0m\u001b[38;5;249ms\u001b[0m\u001b[38;5;249mu\u001b[0m\u001b[38;5;249mm\u001b[0m\u001b[38;5;249m \u001b[0m\u001b[38;5;249m=\u001b[0m\u001b[38;5;249m \u001b[0m\u001b[38;5;249mx\u001b[0m\u001b[38;5;249m \u001b[0m\u001b[38;5;54m+\u001b[0m\u001b[38;5;249m \u001b[0m\u001b[38;5;249my\u001b[0m\u001b[38;5;249m;\u001b[0m",
      " \u001b[38;5;240m  │\u001b[0m                 \u001b[38;5;54m┬\u001b[0m  ",
      " \u001b[38;5;240m  │\u001b[0m                 \u001b[38;5;54m╰\u001b[0m\u001b[38;5;54m─\u001b[0m\u001b[38;5;54m─\u001b[0m no implementation for `i8 + Option<i8>`",
      "\u001b[38;5;246m───╯\u001b[0m"
     ]
    }
   ],
   "source": [
    "{\n",
    "    let x: i8 = 5;\n",
    "    let y: Option<i8> = Some(5);\n",
    "\n",
    "    let sum = x + y;\n",
    "}"
   ]
  },
  {
   "cell_type": "markdown",
   "id": "81f86225-4102-4da0-9b8c-a54763fe7982",
   "metadata": {},
   "source": [
    "# 6.2. The match Control Flow Construct"
   ]
  },
  {
   "cell_type": "code",
   "execution_count": 18,
   "id": "6a7d1de3-557b-4b2e-9967-107ef924e124",
   "metadata": {},
   "outputs": [
    {
     "name": "stdout",
     "output_type": "stream",
     "text": [
      "A dime = 10 cents\n",
      "Lucky Penny.\n",
      "A penny = 1 cents\n"
     ]
    },
    {
     "data": {
      "text/plain": [
       "()"
      ]
     },
     "execution_count": 18,
     "metadata": {},
     "output_type": "execute_result"
    }
   ],
   "source": [
    "{\n",
    "    enum Coin {\n",
    "        Penny,\n",
    "        Nickel,\n",
    "        Dime,\n",
    "        Quarter,\n",
    "    }\n",
    "\n",
    "    fn value_in_cents(coin: &Coin) -> u8 {\n",
    "        match coin {\n",
    "            Coin::Penny => {\n",
    "                println!(\"Lucky Penny.\");\n",
    "                1\n",
    "            },\n",
    "            Coin::Nickel => 5,\n",
    "            Coin::Dime => 10,\n",
    "            Coin::Quarter => 25,\n",
    "        }\n",
    "    }\n",
    "\n",
    "    let a_dime = Coin::Dime;\n",
    "    println!(\"A dime = {} cents\", value_in_cents(&a_dime));\n",
    "\n",
    "    let a_penny = Coin::Penny;\n",
    "    println!(\"A penny = {} cents\", value_in_cents(&a_penny));\n",
    "}"
   ]
  },
  {
   "cell_type": "markdown",
   "id": "4652c59f-ac96-4557-995d-2053d43f9768",
   "metadata": {},
   "source": [
    "## Patterns That Bind to Values"
   ]
  },
  {
   "cell_type": "code",
   "execution_count": 20,
   "id": "71b19c8d-073c-4147-9280-4176cf4a6479",
   "metadata": {},
   "outputs": [
    {
     "name": "stdout",
     "output_type": "stream",
     "text": [
      "state quarter from Alaska\n",
      "A quarter = 25 cents\n"
     ]
    },
    {
     "data": {
      "text/plain": [
       "()"
      ]
     },
     "execution_count": 20,
     "metadata": {},
     "output_type": "execute_result"
    }
   ],
   "source": [
    "{\n",
    "    enum Coin {\n",
    "        Penny,\n",
    "        Nickel,\n",
    "        Dime,\n",
    "        Quarter(UsState),\n",
    "    }\n",
    "\n",
    "    #[derive(Debug)]\n",
    "    enum UsState {\n",
    "        Alabama,\n",
    "        Alaska,\n",
    "    }\n",
    "\n",
    "    fn value_in_cents(coin: &Coin) -> u8 {\n",
    "        match coin {\n",
    "            Coin::Penny => {\n",
    "                println!(\"Lucky Penny.\");\n",
    "                1\n",
    "            },\n",
    "            Coin::Nickel => 5,\n",
    "            Coin::Dime => 10,\n",
    "            Coin::Quarter(state) => {\n",
    "                println!(\"state quarter from {:?}\", state);\n",
    "                25\n",
    "            },\n",
    "        }\n",
    "    }\n",
    "\n",
    "    let a_quarter = Coin::Quarter(UsState::Alaska);\n",
    "    println!(\"A quarter = {} cents\", value_in_cents(&a_quarter));\n",
    "\n",
    "    // let a_penny = Coin::Penny;\n",
    "    // println!(\"A penny = {} cents\", value_in_cents(&a_penny));\n",
    "}"
   ]
  },
  {
   "cell_type": "markdown",
   "id": "9b9dad6a-b037-4c0c-9c16-335cf01450bc",
   "metadata": {},
   "source": [
    "## Matching with `Option<T>`"
   ]
  },
  {
   "cell_type": "code",
   "execution_count": 21,
   "id": "c30753a5-6a8c-4161-bf44-57a46c6a6ee8",
   "metadata": {},
   "outputs": [
    {
     "data": {
      "text/plain": [
       "()"
      ]
     },
     "execution_count": 21,
     "metadata": {},
     "output_type": "execute_result"
    }
   ],
   "source": [
    "{\n",
    "    fn plus_one_opt(x: Option<i32>) -> Option<i32> {\n",
    "        match x {\n",
    "            None => None,\n",
    "            Some(i) => Some(i + 1),\n",
    "        }\n",
    "    }\n",
    "\n",
    "    let five = Some(5);\n",
    "    let six = plus_one_opt(five);\n",
    "    let none = plus_one_opt(None);\n",
    "}"
   ]
  },
  {
   "cell_type": "markdown",
   "id": "0034d896-8801-4e47-8a38-2127b3a04f98",
   "metadata": {},
   "source": [
    "## Catch-all Patterns and the `_`Placeholder"
   ]
  },
  {
   "cell_type": "code",
   "execution_count": 22,
   "id": "674d3c81-7792-4774-845d-35c5cc0325d2",
   "metadata": {},
   "outputs": [
    {
     "data": {
      "text/plain": [
       "()"
      ]
     },
     "execution_count": 22,
     "metadata": {},
     "output_type": "execute_result"
    }
   ],
   "source": [
    "{\n",
    "    let dice_roll = 9;\n",
    "    match dice_roll {\n",
    "        3 => add_fancy_hat(),\n",
    "        7 => remove_fancy_hat(),\n",
    "        _ => (), // The catch-all branch\n",
    "    }\n",
    "\n",
    "    fn add_fancy_hat() {}\n",
    "    fn remove_fancy_hat() {}\n",
    "}"
   ]
  },
  {
   "cell_type": "markdown",
   "id": "795edef7-421d-4efc-845d-fb814a638948",
   "metadata": {},
   "source": [
    "# 6.3.3 Concise Control Flow with if let\n",
    "\n",
    "The `if let` syntax lets you combine if and let into a less verbose way to handle values that match one pattern while ignoring the rest.\n",
    "\n",
    "`if let [option] = var { expression }`"
   ]
  },
  {
   "cell_type": "code",
   "execution_count": 23,
   "id": "e3f47c93-d27c-49b5-9134-90dcb81da6d5",
   "metadata": {},
   "outputs": [
    {
     "name": "stdout",
     "output_type": "stream",
     "text": [
      "The maximum is configured to be 3\n"
     ]
    },
    {
     "data": {
      "text/plain": [
       "()"
      ]
     },
     "execution_count": 23,
     "metadata": {},
     "output_type": "execute_result"
    }
   ],
   "source": [
    "{\n",
    "    let config_max = Some(3u8);\n",
    "    match config_max {\n",
    "        Some(max) => println!(\"The maximum is configured to be {}\", max),\n",
    "        _ => (),\n",
    "    }\n",
    "}"
   ]
  },
  {
   "cell_type": "code",
   "execution_count": 24,
   "id": "b397a368-0838-4354-9221-8bd8a150cdcb",
   "metadata": {},
   "outputs": [
    {
     "name": "stdout",
     "output_type": "stream",
     "text": [
      "The maximum is configured to be 3\n"
     ]
    },
    {
     "data": {
      "text/plain": [
       "()"
      ]
     },
     "execution_count": 24,
     "metadata": {},
     "output_type": "execute_result"
    }
   ],
   "source": [
    "{\n",
    "    let config_max = Some(3u8);\n",
    "    if let Some(max) = config_max {\n",
    "        println!(\"The maximum is configured to be {}\", max);\n",
    "    }\n",
    "}"
   ]
  },
  {
   "cell_type": "code",
   "execution_count": 25,
   "id": "92ef9943-089a-47fd-9922-267442838ea6",
   "metadata": {},
   "outputs": [
    {
     "name": "stdout",
     "output_type": "stream",
     "text": [
      "State quarter from Alaska!\n"
     ]
    },
    {
     "data": {
      "text/plain": [
       "()"
      ]
     },
     "execution_count": 25,
     "metadata": {},
     "output_type": "execute_result"
    }
   ],
   "source": [
    "{\n",
    "    enum Coin {\n",
    "        Penny,\n",
    "        Nickel,\n",
    "        Dime,\n",
    "        Quarter(UsState),\n",
    "    }\n",
    "\n",
    "    #[derive(Debug)]\n",
    "    enum UsState {\n",
    "        Alabama,\n",
    "        Alaska,\n",
    "    }\n",
    "    \n",
    "    let mut count = 0;\n",
    "    let coin = Coin::Quarter(UsState::Alaska);\n",
    "\n",
    "    match coin {\n",
    "        Coin::Quarter(state) => println!(\"State quarter from {:?}!\", state),\n",
    "        _ => count += 1,\n",
    "    }\n",
    "}"
   ]
  },
  {
   "cell_type": "code",
   "execution_count": 27,
   "id": "b3af441a-7c5d-4b71-a9a6-6b1d618df7c0",
   "metadata": {},
   "outputs": [
    {
     "name": "stdout",
     "output_type": "stream",
     "text": [
      "State quarter from Alaska!\n"
     ]
    },
    {
     "data": {
      "text/plain": [
       "()"
      ]
     },
     "execution_count": 27,
     "metadata": {},
     "output_type": "execute_result"
    }
   ],
   "source": [
    "{\n",
    "    enum Coin {\n",
    "        Penny,\n",
    "        Nickel,\n",
    "        Dime,\n",
    "        Quarter(UsState),\n",
    "    }\n",
    "\n",
    "    #[derive(Debug)]\n",
    "    enum UsState {\n",
    "        Alabama,\n",
    "        Alaska,\n",
    "    }\n",
    "    \n",
    "    let mut count = 0;\n",
    "    let coin = Coin::Quarter(UsState::Alaska);\n",
    "\n",
    "    if let Coin::Quarter(state) = coin {\n",
    "        println!(\"State quarter from {:?}!\", state);\n",
    "    } else {\n",
    "        count += 1\n",
    "    }\n",
    "}"
   ]
  },
  {
   "cell_type": "code",
   "execution_count": null,
   "id": "290ac396-0cdd-40bc-bea8-268108c63bff",
   "metadata": {},
   "outputs": [],
   "source": []
  }
 ],
 "metadata": {
  "kernelspec": {
   "display_name": "Rust",
   "language": "rust",
   "name": "rust"
  },
  "language_info": {
   "codemirror_mode": "rust",
   "file_extension": ".rs",
   "mimetype": "text/rust",
   "name": "Rust",
   "pygment_lexer": "rust",
   "version": ""
  }
 },
 "nbformat": 4,
 "nbformat_minor": 5
}
