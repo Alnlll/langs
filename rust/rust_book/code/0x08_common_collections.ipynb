{
 "cells": [
  {
   "cell_type": "markdown",
   "id": "13f57cc0-a1fc-411a-8322-81901785a79f",
   "metadata": {},
   "source": [
    "# 8. Common Collections\n",
    "\n",
    "## 8.1. Storing Lists of Values with Vectors\n",
    "`Vec<T>`, known as a vector.\n",
    "\n",
    "- Store more than one value in a single data structure (next to each other in mem).\n",
    "- Only values of the same type.\n",
    "\n",
    "### Creating a New vector"
   ]
  },
  {
   "cell_type": "code",
   "execution_count": null,
   "id": "fe2843bf-4f01-4661-b4e8-5532bc0219dd",
   "metadata": {},
   "outputs": [],
   "source": [
    "{\n",
    "    let v: Vec<i32> = Vec::new();\n",
    "\n",
    "    let v1 = vec![1, 2, 3];\n",
    "}"
   ]
  },
  {
   "cell_type": "markdown",
   "id": "e6104dc4-5a3b-48f8-a0e9-782a5e9c600b",
   "metadata": {},
   "source": [
    "### Updating a Vector"
   ]
  },
  {
   "cell_type": "code",
   "execution_count": 5,
   "id": "81cbc78c-16ad-48b3-ba78-1b4eb3cf5c3a",
   "metadata": {},
   "outputs": [
    {
     "name": "stdout",
     "output_type": "stream",
     "text": [
      "v = [5, 6, 7]\n"
     ]
    },
    {
     "data": {
      "text/plain": [
       "()"
      ]
     },
     "execution_count": 5,
     "metadata": {},
     "output_type": "execute_result"
    }
   ],
   "source": [
    "{\n",
    "    let mut v = Vec::new(); // fail if only this line, could not infer type of v.\n",
    "\n",
    "    v.push(5);\n",
    "    v.push(6);\n",
    "    v.push(7);\n",
    "\n",
    "    println!(\"v = {:?}\", v);\n",
    "}"
   ]
  },
  {
   "cell_type": "markdown",
   "id": "bbefbf0f-bf5a-43e4-aaa4-9982c154fdf5",
   "metadata": {},
   "source": [
    "### Reading Elements of Vectors"
   ]
  },
  {
   "cell_type": "code",
   "execution_count": 11,
   "id": "fc7af7aa-6d55-4365-833f-7c00734e232f",
   "metadata": {},
   "outputs": [
    {
     "name": "stdout",
     "output_type": "stream",
     "text": [
      "The third element is 3\n",
      "The third element is 3\n"
     ]
    },
    {
     "data": {
      "text/plain": [
       "()"
      ]
     },
     "execution_count": 11,
     "metadata": {},
     "output_type": "execute_result"
    }
   ],
   "source": [
    "{\n",
    "    let v = vec![1, 2, 3, 4, 5];\n",
    "\n",
    "    let third: &i32 = &v[2];\n",
    "    println!(\"The third element is {third}\");\n",
    "\n",
    "    let third: Option<&i32> = v.get(2);\n",
    "    // match third {\n",
    "    //     Some(num) => println!(\"The third element is {num}\"),\n",
    "    //     None => println!(\"No third elem.\"),\n",
    "    // }\n",
    "    if let Some(num) = third {\n",
    "        println!(\"The third element is {num}\");\n",
    "    } else {\n",
    "        println!(\"No third elem.\");\n",
    "    }\n",
    "}"
   ]
  },
  {
   "cell_type": "markdown",
   "id": "8a2702e1-b5f1-4ce3-9c2a-96e31d6aa253",
   "metadata": {},
   "source": [
    "- When the program has a valid reference, the borrow checker enforces the ownership and borrowing rules.\n",
    "- We can't have mutable and immutable references in the same scope.\n",
    "- The reason of that the first element should care about the following elements\n",
    "    - Vector may need to allocate new memory and copy old data to push new data\n",
    "    - The allocation may fail, Rust needs to ensure a valid reference"
   ]
  },
  {
   "cell_type": "markdown",
   "id": "fd900757-e753-46ef-9807-1c054a771061",
   "metadata": {},
   "source": [
    "### Iterating over the Values in a Vector"
   ]
  },
  {
   "cell_type": "code",
   "execution_count": 12,
   "id": "6b18b010-8e3a-4a55-8af5-c016c5c3408c",
   "metadata": {},
   "outputs": [
    {
     "name": "stdout",
     "output_type": "stream",
     "text": [
      "100\n",
      "32\n",
      "57\n"
     ]
    },
    {
     "data": {
      "text/plain": [
       "()"
      ]
     },
     "execution_count": 12,
     "metadata": {},
     "output_type": "execute_result"
    }
   ],
   "source": [
    "{\n",
    "    let v = vec![100, 32, 57];\n",
    "\n",
    "    for i in &v {\n",
    "        println!(\"{i}\");\n",
    "    }\n",
    "}"
   ]
  },
  {
   "cell_type": "code",
   "execution_count": 13,
   "id": "c5d4cd1f-0231-416f-a451-a6f33e4e8c1d",
   "metadata": {},
   "outputs": [
    {
     "name": "stdout",
     "output_type": "stream",
     "text": [
      "150\n",
      "82\n",
      "107\n"
     ]
    },
    {
     "data": {
      "text/plain": [
       "()"
      ]
     },
     "execution_count": 13,
     "metadata": {},
     "output_type": "execute_result"
    }
   ],
   "source": [
    "{\n",
    "    let mut v = vec![100, 32, 57];\n",
    "\n",
    "    for i in &mut v {\n",
    "        *i += 50;\n",
    "        println!(\"{i}\");\n",
    "    }\n",
    "}"
   ]
  },
  {
   "cell_type": "markdown",
   "id": "5ea5153b-32ca-4e8a-88b3-1bbf9889a8f0",
   "metadata": {},
   "source": [
    "### Using an Enum to Store Multiple Types"
   ]
  },
  {
   "cell_type": "code",
   "execution_count": 15,
   "id": "f1256321-d644-4d1e-9b33-62d3780fc7fb",
   "metadata": {},
   "outputs": [
    {
     "name": "stdout",
     "output_type": "stream",
     "text": [
      "[Int(3), Float(10.12), Text(\"Blue\")]\n"
     ]
    },
    {
     "data": {
      "text/plain": [
       "()"
      ]
     },
     "execution_count": 15,
     "metadata": {},
     "output_type": "execute_result"
    }
   ],
   "source": [
    "{\n",
    "    #[derive(Debug)]\n",
    "    enum SpreadsheetCell  {\n",
    "        Int(i32),\n",
    "        Float(f64),\n",
    "        Text(String),\n",
    "    }\n",
    "\n",
    "    let row = vec![\n",
    "        SpreadsheetCell::Int(3),\n",
    "        SpreadsheetCell::Float(10.12),\n",
    "        SpreadsheetCell::Text(String::from(\"Blue\")),\n",
    "    ];\n",
    "\n",
    "    println!(\"{:?}\", row);\n",
    "}"
   ]
  },
  {
   "cell_type": "markdown",
   "id": "f529faa6-3852-41e7-a76b-f0600ea0441b",
   "metadata": {},
   "source": [
    "### Dropping a Vector Drops Its Elements\n",
    "Like any other struct, a vector is freed when it goes out of scope.\n",
    "\n",
    "```rust\n",
    "{\n",
    "    let v = vec![1, 2, 3, 4];\n",
    "\n",
    "    // do stuff with v\n",
    "} // <- v goes out of scope and is freed here\n",
    "```"
   ]
  },
  {
   "cell_type": "markdown",
   "id": "e31dd0e3-d877-41d5-86a5-f82b25d0d234",
   "metadata": {},
   "source": [
    "# 8.2. Storing UTF-8 Encoded Text with Strings\n",
    "\n",
    "## what Is a String?\n",
    "\n",
    "Rust has only one string type in the core language, which is the string slice `str` that is usually seen in its borrowed from `$str`.\n",
    "\n",
    "The `String` type, which is provided by Rust's standard library, is gowable, mutable, owened, UTF-8 encoded string type.\n",
    "\n",
    "## Creating a New String"
   ]
  },
  {
   "cell_type": "code",
   "execution_count": 19,
   "id": "62ae6ccb-5c7d-4a7a-b30e-b8a04f353c97",
   "metadata": {},
   "outputs": [
    {
     "name": "stdout",
     "output_type": "stream",
     "text": [
      "s = \n",
      "s = initial contents\n",
      "s = initial contents\n",
      "s = Hellow, String.\n",
      "hello = Hola\n"
     ]
    },
    {
     "data": {
      "text/plain": [
       "()"
      ]
     },
     "execution_count": 19,
     "metadata": {},
     "output_type": "execute_result"
    }
   ],
   "source": [
    "{\n",
    "    // new empty string \n",
    "    let mut s = String::new(); \n",
    "\n",
    "    println!(\"s = {}\", s);\n",
    "\n",
    "    let data = \"initial contents\";\n",
    "    // available on any type that implements the Display trait\n",
    "    let s = data.to_string();\n",
    "    println!(\"s = {}\", s);\n",
    "\n",
    "    // the method also works on a literal directly\n",
    "    let s = \"initial contents\".to_string();\n",
    "    println!(\"s = {}\", s);\n",
    "\n",
    "    let s = String::from(\"Hellow, String.\");\n",
    "    println!(\"s = {}\", s);\n",
    "\n",
    "    let hello = String::from(\"السلام عليكم\");\n",
    "    let hello = String::from(\"Dobrý den\");\n",
    "    let hello = String::from(\"Hello\");\n",
    "    let hello = String::from(\"שָׁלוֹם\");\n",
    "    let hello = String::from(\"नमस्ते\");\n",
    "    let hello = String::from(\"こんにちは\");\n",
    "    let hello = String::from(\"안녕하세요\");\n",
    "    let hello = String::from(\"你好\");\n",
    "    let hello = String::from(\"Olá\");\n",
    "    let hello = String::from(\"Здравствуйте\");\n",
    "    let hello = String::from(\"Hola\");\n",
    "    println!(\"hello = {}\", hello);\n",
    "}"
   ]
  },
  {
   "cell_type": "markdown",
   "id": "9e8fe62d-3e9f-484d-9d64-1a2ead295b05",
   "metadata": {},
   "source": [
    "## Updating a String\n",
    "\n",
    "- `push_str`\n",
    "- `+`\n",
    "- `format!`"
   ]
  },
  {
   "cell_type": "code",
   "execution_count": 26,
   "id": "c75c22e3-5c61-4bd2-97cd-ed27a364cda1",
   "metadata": {},
   "outputs": [
    {
     "name": "stdout",
     "output_type": "stream",
     "text": [
      "s = foobar\n",
      "s1 = foobar\n",
      "s2 = ,World!, s3 = Hello,World!\n",
      "s = tic-tac-toe\n",
      "s = tic-tac-toe\n",
      "s2 = tac, s3 = toe\n"
     ]
    },
    {
     "data": {
      "text/plain": [
       "()"
      ]
     },
     "execution_count": 26,
     "metadata": {},
     "output_type": "execute_result"
    }
   ],
   "source": [
    "{\n",
    "    // push_str\n",
    "    let mut s = String::from(\"foo\");\n",
    "    s.push_str(\"bar\");\n",
    "    println!(\"s = {}\", s);\n",
    "\n",
    "    let mut s1 = String::from(\"foo\");\n",
    "    let s2 = \"bar\";\n",
    "    s1 = s1 + s2;\n",
    "    println!(\"s1 = {}\", s1);\n",
    "\n",
    "    // +\n",
    "    let s1 = String::from(\"Hello\");\n",
    "    let s2 = String::from(\",World!\");\n",
    "    let s3 = s1 + &s2; // s1 was moved here\n",
    "    println!(\"s2 = {}, s3 = {}\", s2, s3);\n",
    "\n",
    "    let s1 = String::from(\"tic\");\n",
    "    let s2 = String::from(\"tac\");\n",
    "    let s3 = String::from(\"toe\");\n",
    "    let s = s1 + \"-\" + &s2 + \"-\" + &s3;\n",
    "    println!(\"s = {}\", s);\n",
    "\n",
    "    // format!\n",
    "    let s1 = String::from(\"tic\");\n",
    "    let s2 = String::from(\"tac\");\n",
    "    let s3 = String::from(\"toe\");\n",
    "\n",
    "    let s = format!(\"{s1}-{s2}-{s3}\");\n",
    "    println!(\"s = {}\", s);\n",
    "    println!(\"s2 = {}, s3 = {}\", s2, s3);\n",
    "}"
   ]
  },
  {
   "cell_type": "markdown",
   "id": "85c49d5b-9fbc-4ea6-a131-f7ad5c9e383a",
   "metadata": {},
   "source": [
    "## Indexing into Strings\n",
    "\n",
    "If you try to access parts of a String using indexing syntax in Rust, you’ll get an error."
   ]
  },
  {
   "cell_type": "code",
   "execution_count": 27,
   "id": "3c430bf5-fea8-4f90-bfaf-8f68cb4c64c2",
   "metadata": {},
   "outputs": [
    {
     "ename": "Error",
     "evalue": "the type `String` cannot be indexed by `{integer}`",
     "output_type": "error",
     "traceback": [
      "\u001b[31m[E0277] Error:\u001b[0m the type `String` cannot be indexed by `{integer}`",
      "   \u001b[38;5;246m╭\u001b[0m\u001b[38;5;246m─\u001b[0m\u001b[38;5;246m[\u001b[0mcommand_27:1:1\u001b[38;5;246m]\u001b[0m",
      "   \u001b[38;5;246m│\u001b[0m",
      " \u001b[38;5;246m4 │\u001b[0m \u001b[38;5;249m \u001b[0m\u001b[38;5;249m \u001b[0m\u001b[38;5;249m \u001b[0m\u001b[38;5;249m \u001b[0m\u001b[38;5;249ml\u001b[0m\u001b[38;5;249me\u001b[0m\u001b[38;5;249mt\u001b[0m\u001b[38;5;249m \u001b[0m\u001b[38;5;249mh\u001b[0m\u001b[38;5;249m \u001b[0m\u001b[38;5;249m=\u001b[0m\u001b[38;5;249m \u001b[0m\u001b[38;5;54ms\u001b[0m\u001b[38;5;54m[\u001b[0m\u001b[38;5;54m0\u001b[0m\u001b[38;5;54m]\u001b[0m\u001b[38;5;249m;\u001b[0m",
      " \u001b[38;5;240m  │\u001b[0m             \u001b[38;5;54m─\u001b[0m\u001b[38;5;54m─\u001b[0m\u001b[38;5;54m┬\u001b[0m\u001b[38;5;54m─\u001b[0m  ",
      " \u001b[38;5;240m  │\u001b[0m               \u001b[38;5;54m╰\u001b[0m\u001b[38;5;54m─\u001b[0m\u001b[38;5;54m─\u001b[0m\u001b[38;5;54m─\u001b[0m `String` cannot be indexed by `{integer}`",
      "\u001b[38;5;246m───╯\u001b[0m"
     ]
    }
   ],
   "source": [
    "{\n",
    "    let s = String::from(\"Hello.\");\n",
    "\n",
    "    let h = s[0];\n",
    "}"
   ]
  },
  {
   "cell_type": "markdown",
   "id": "47026179-e6c3-4498-9aa3-1cace10b6c17",
   "metadata": {},
   "source": [
    "### String Internal Representation\n",
    "\n",
    "A `String` is a wrapper over a `Vec<u8>`, the previous issue is all about Rust is encoding a `String` with UTF-8."
   ]
  },
  {
   "cell_type": "code",
   "execution_count": null,
   "id": "9ba8f182-8fe3-44c2-b4dd-2c91b0376ae6",
   "metadata": {},
   "outputs": [],
   "source": [
    "{\n",
    "    // the len = 4\n",
    "    let hello = String::from(\"Hola\");\n",
    "\n",
    "    // len = 12\n",
    "    let hello = String::from(\"Здравствуйте\");\n",
    "}"
   ]
  },
  {
   "cell_type": "markdown",
   "id": "684ca827-bae4-4a44-8684-ed3993221c14",
   "metadata": {},
   "source": [
    "### Bytes and Scalar Values and Grapheme Clusters\n",
    "\n",
    "Another point about UTF-8 is that there are actually three relevant ways to look at strings from Rust’s perspective\n",
    "- bytes\n",
    "- scalar values\n",
    "- grapheme clusters （字符簇， *letters*）"
   ]
  },
  {
   "cell_type": "markdown",
   "id": "dc2aa90c-14a3-413d-9f9a-34967ba4cdb1",
   "metadata": {},
   "source": [
    "## Slicing Strings\n",
    "\n",
    "Indexing into a string is often a bad idea because it’s not clear what the return type of the string-indexing operation should be:\n",
    "- a byte value\n",
    "- a character\n",
    "- a grapheme cluster\n",
    "- a string slice.\n",
    "\n"
   ]
  },
  {
   "cell_type": "code",
   "execution_count": 29,
   "id": "d6ad2cd4-0ebf-4ffb-ba41-ed5a7e52873a",
   "metadata": {},
   "outputs": [
    {
     "data": {
      "text/plain": [
       "()"
      ]
     },
     "execution_count": 29,
     "metadata": {},
     "output_type": "execute_result"
    }
   ],
   "source": [
    "{\n",
    "    let hello = \"Здравствуйте\";\n",
    "    let s = &hello[0..4]; // add specific indices\n",
    "}"
   ]
  },
  {
   "cell_type": "markdown",
   "id": "27e190e1-9fc3-422e-b0a8-98b00e003359",
   "metadata": {},
   "source": [
    "## Methods for Iterating Over Strings\n",
    "\n",
    "The best way to operate on pieces of strings is to be explicit about whether you want characters or bytes\n",
    "\n",
    "- `chars` : individual Unicode scalar\n",
    "- `bytes` : bytes"
   ]
  },
  {
   "cell_type": "code",
   "execution_count": 31,
   "id": "d05ec805-b6f6-4a64-a696-134c9fd0a29e",
   "metadata": {},
   "outputs": [
    {
     "name": "stdout",
     "output_type": "stream",
     "text": [
      "З\n",
      "д\n",
      "208\n",
      "151\n",
      "208\n",
      "180\n"
     ]
    },
    {
     "data": {
      "text/plain": [
       "()"
      ]
     },
     "execution_count": 31,
     "metadata": {},
     "output_type": "execute_result"
    }
   ],
   "source": [
    "{\n",
    "    for c in \"Зд\".chars() {\n",
    "        println!(\"{c}\");\n",
    "    }\n",
    "\n",
    "    for b in \"Зд\".bytes() {\n",
    "        println!(\"{b}\");\n",
    "    }\n",
    "}"
   ]
  },
  {
   "cell_type": "markdown",
   "id": "a1932480-7158-4463-bf94-cc495a97dd85",
   "metadata": {},
   "source": [
    "# 8.3. Storing Keys with Associated Values in Hash Maps\n",
    "\n",
    "The type `HashMap<K, V>` stores a mapping of keys of type `K` to values of type `V` using a hashing function.\n",
    "\n",
    "## Hash Map"
   ]
  },
  {
   "cell_type": "code",
   "execution_count": 39,
   "id": "70afee87-d493-457a-9bc6-1c2a33765e24",
   "metadata": {},
   "outputs": [
    {
     "name": "stdout",
     "output_type": "stream",
     "text": [
      "{\"Yellow\": 50, \"Blue\": 10}\n",
      "Blue: 10\n",
      "Yellow: 50\n",
      "Blue: 10\n"
     ]
    },
    {
     "data": {
      "text/plain": [
       "()"
      ]
     },
     "execution_count": 39,
     "metadata": {},
     "output_type": "execute_result"
    }
   ],
   "source": [
    "{\n",
    "    use std::collections::HashMap;\n",
    "\n",
    "    let mut scores = HashMap::new();\n",
    "\n",
    "    scores.insert(String::from(\"Blue\"), 10);\n",
    "    scores.insert(String::from(\"Yellow\"), 50);\n",
    "\n",
    "    println!(\"{:?}\", scores);\n",
    "\n",
    "    let team = String::from(\"Blue\");\n",
    "    let score = scores.get(&team).copied().unwrap_or(0);\n",
    "    println!(\"{}: {}\", team, score);\n",
    "\n",
    "    for (key, value) in &scores {\n",
    "        println!(\"{key}: {value}\");\n",
    "    }\n",
    "}"
   ]
  },
  {
   "cell_type": "markdown",
   "id": "6bea361e-2ae5-4124-b3bc-4c78bdc0ef60",
   "metadata": {},
   "source": [
    "## Hash Maps and Ownership\n",
    "\n",
    "- HashMap to take the ownership\n",
    "    - The types that implement the `Copy` trait. (i32, f64, ...)\n",
    "- Not take ownership\n",
    "    - insert reference"
   ]
  },
  {
   "cell_type": "code",
   "execution_count": 41,
   "id": "89711432-82c7-42a2-b1ee-5c9f25caffe3",
   "metadata": {},
   "outputs": [
    {
     "ename": "Error",
     "evalue": "borrow of moved value: `field_name`",
     "output_type": "error",
     "traceback": [
      "\u001b[31m[E0382] Error:\u001b[0m borrow of moved value: `field_name`",
      "    \u001b[38;5;246m╭\u001b[0m\u001b[38;5;246m─\u001b[0m\u001b[38;5;246m[\u001b[0mcommand_41:1:1\u001b[38;5;246m]\u001b[0m",
      "    \u001b[38;5;246m│\u001b[0m",
      " \u001b[38;5;246m 4 │\u001b[0m \u001b[38;5;249m \u001b[0m\u001b[38;5;249m \u001b[0m\u001b[38;5;249m \u001b[0m\u001b[38;5;249m \u001b[0m\u001b[38;5;249ml\u001b[0m\u001b[38;5;249me\u001b[0m\u001b[38;5;249mt\u001b[0m\u001b[38;5;249m \u001b[0m\u001b[38;5;68mf\u001b[0m\u001b[38;5;68mi\u001b[0m\u001b[38;5;68me\u001b[0m\u001b[38;5;68ml\u001b[0m\u001b[38;5;68md\u001b[0m\u001b[38;5;68m_\u001b[0m\u001b[38;5;68mn\u001b[0m\u001b[38;5;68ma\u001b[0m\u001b[38;5;68mm\u001b[0m\u001b[38;5;68me\u001b[0m\u001b[38;5;249m \u001b[0m\u001b[38;5;249m=\u001b[0m\u001b[38;5;249m \u001b[0m\u001b[38;5;249mS\u001b[0m\u001b[38;5;249mt\u001b[0m\u001b[38;5;249mr\u001b[0m\u001b[38;5;249mi\u001b[0m\u001b[38;5;249mn\u001b[0m\u001b[38;5;249mg\u001b[0m\u001b[38;5;249m:\u001b[0m\u001b[38;5;249m:\u001b[0m\u001b[38;5;249mf\u001b[0m\u001b[38;5;249mr\u001b[0m\u001b[38;5;249mo\u001b[0m\u001b[38;5;249mm\u001b[0m\u001b[38;5;249m(\u001b[0m\u001b[38;5;249m\"\u001b[0m\u001b[38;5;249mF\u001b[0m\u001b[38;5;249ma\u001b[0m\u001b[38;5;249mv\u001b[0m\u001b[38;5;249mo\u001b[0m\u001b[38;5;249mr\u001b[0m\u001b[38;5;249mi\u001b[0m\u001b[38;5;249mt\u001b[0m\u001b[38;5;249me\u001b[0m\u001b[38;5;249m \u001b[0m\u001b[38;5;249mc\u001b[0m\u001b[38;5;249mo\u001b[0m\u001b[38;5;249ml\u001b[0m\u001b[38;5;249mo\u001b[0m\u001b[38;5;249mr\u001b[0m\u001b[38;5;249m\"\u001b[0m\u001b[38;5;249m)\u001b[0m\u001b[38;5;249m;\u001b[0m",
      " \u001b[38;5;240m   │\u001b[0m         \u001b[38;5;68m─\u001b[0m\u001b[38;5;68m─\u001b[0m\u001b[38;5;68m─\u001b[0m\u001b[38;5;68m─\u001b[0m\u001b[38;5;68m─\u001b[0m\u001b[38;5;68m┬\u001b[0m\u001b[38;5;68m─\u001b[0m\u001b[38;5;68m─\u001b[0m\u001b[38;5;68m─\u001b[0m\u001b[38;5;68m─\u001b[0m  ",
      " \u001b[38;5;240m   │\u001b[0m              \u001b[38;5;68m╰\u001b[0m\u001b[38;5;68m─\u001b[0m\u001b[38;5;68m─\u001b[0m\u001b[38;5;68m─\u001b[0m\u001b[38;5;68m─\u001b[0m\u001b[38;5;68m─\u001b[0m\u001b[38;5;68m─\u001b[0m move occurs because `field_name` has type `String`, which does not implement the `Copy` trait",
      " \u001b[38;5;240m   │\u001b[0m ",
      " \u001b[38;5;246m 8 │\u001b[0m \u001b[38;5;249m \u001b[0m\u001b[38;5;249m \u001b[0m\u001b[38;5;249m \u001b[0m\u001b[38;5;249m \u001b[0m\u001b[38;5;249mm\u001b[0m\u001b[38;5;249ma\u001b[0m\u001b[38;5;249mp\u001b[0m\u001b[38;5;249m.\u001b[0m\u001b[38;5;249mi\u001b[0m\u001b[38;5;249mn\u001b[0m\u001b[38;5;249ms\u001b[0m\u001b[38;5;249me\u001b[0m\u001b[38;5;249mr\u001b[0m\u001b[38;5;249mt\u001b[0m\u001b[38;5;249m(\u001b[0m\u001b[38;5;54mf\u001b[0m\u001b[38;5;54mi\u001b[0m\u001b[38;5;54me\u001b[0m\u001b[38;5;54ml\u001b[0m\u001b[38;5;54md\u001b[0m\u001b[38;5;54m_\u001b[0m\u001b[38;5;54mn\u001b[0m\u001b[38;5;54ma\u001b[0m\u001b[38;5;54mm\u001b[0m\u001b[38;5;54me\u001b[0m\u001b[38;5;249m,\u001b[0m\u001b[38;5;249m \u001b[0m\u001b[38;5;249mf\u001b[0m\u001b[38;5;249mi\u001b[0m\u001b[38;5;249me\u001b[0m\u001b[38;5;249ml\u001b[0m\u001b[38;5;249md\u001b[0m\u001b[38;5;249m_\u001b[0m\u001b[38;5;249mv\u001b[0m\u001b[38;5;249ma\u001b[0m\u001b[38;5;249ml\u001b[0m\u001b[38;5;249mu\u001b[0m\u001b[38;5;249me\u001b[0m\u001b[38;5;249m)\u001b[0m\u001b[38;5;249m;\u001b[0m",
      " \u001b[38;5;240m   │\u001b[0m                \u001b[38;5;54m─\u001b[0m\u001b[38;5;54m─\u001b[0m\u001b[38;5;54m─\u001b[0m\u001b[38;5;54m─\u001b[0m\u001b[38;5;54m─\u001b[0m\u001b[38;5;54m┬\u001b[0m\u001b[38;5;54m─\u001b[0m\u001b[38;5;54m─\u001b[0m\u001b[38;5;54m─\u001b[0m\u001b[38;5;54m─\u001b[0m\u001b[38;5;37m│\u001b[0m ",
      " \u001b[38;5;240m   │\u001b[0m                     \u001b[38;5;54m╰\u001b[0m\u001b[38;5;54m─\u001b[0m\u001b[38;5;54m─\u001b[0m\u001b[38;5;54m─\u001b[0m\u001b[38;5;54m─\u001b[0m\u001b[38;5;54m─\u001b[0m\u001b[38;5;54m─\u001b[0m value moved here",
      " \u001b[38;5;240m   │\u001b[0m                          \u001b[38;5;37m│\u001b[0m ",
      " \u001b[38;5;240m   │\u001b[0m                          \u001b[38;5;37m╰\u001b[0m\u001b[38;5;37m─\u001b[0m help: consider cloning the value if the performance cost is acceptable: `.clone()`",
      " \u001b[38;5;240m   │\u001b[0m ",
      " \u001b[38;5;246m11 │\u001b[0m \u001b[38;5;249m \u001b[0m\u001b[38;5;249m \u001b[0m\u001b[38;5;249m \u001b[0m\u001b[38;5;249m \u001b[0m\u001b[38;5;249mp\u001b[0m\u001b[38;5;249mr\u001b[0m\u001b[38;5;249mi\u001b[0m\u001b[38;5;249mn\u001b[0m\u001b[38;5;249mt\u001b[0m\u001b[38;5;249ml\u001b[0m\u001b[38;5;249mn\u001b[0m\u001b[38;5;249m!\u001b[0m\u001b[38;5;249m(\u001b[0m\u001b[38;5;249m\"\u001b[0m\u001b[38;5;100m{\u001b[0m\u001b[38;5;100mf\u001b[0m\u001b[38;5;100mi\u001b[0m\u001b[38;5;100me\u001b[0m\u001b[38;5;100ml\u001b[0m\u001b[38;5;100md\u001b[0m\u001b[38;5;100m_\u001b[0m\u001b[38;5;100mn\u001b[0m\u001b[38;5;100ma\u001b[0m\u001b[38;5;100mm\u001b[0m\u001b[38;5;100me\u001b[0m\u001b[38;5;100m}\u001b[0m\u001b[38;5;249m\"\u001b[0m\u001b[38;5;249m)\u001b[0m\u001b[38;5;249m;\u001b[0m",
      " \u001b[38;5;240m   │\u001b[0m               \u001b[38;5;100m─\u001b[0m\u001b[38;5;100m─\u001b[0m\u001b[38;5;100m─\u001b[0m\u001b[38;5;100m─\u001b[0m\u001b[38;5;100m─\u001b[0m\u001b[38;5;100m─\u001b[0m\u001b[38;5;100m┬\u001b[0m\u001b[38;5;100m─\u001b[0m\u001b[38;5;100m─\u001b[0m\u001b[38;5;100m─\u001b[0m\u001b[38;5;100m─\u001b[0m\u001b[38;5;100m─\u001b[0m  ",
      " \u001b[38;5;240m   │\u001b[0m                     \u001b[38;5;100m╰\u001b[0m\u001b[38;5;100m─\u001b[0m\u001b[38;5;100m─\u001b[0m\u001b[38;5;100m─\u001b[0m\u001b[38;5;100m─\u001b[0m\u001b[38;5;100m─\u001b[0m\u001b[38;5;100m─\u001b[0m\u001b[38;5;100m─\u001b[0m value borrowed here after move",
      "\u001b[38;5;246m────╯\u001b[0m"
     ]
    }
   ],
   "source": [
    "{\n",
    "    use std::collections::HashMap;\n",
    "\n",
    "    let field_name = String::from(\"Favorite color\");\n",
    "    let field_value = String::from(\"Blue\");\n",
    "\n",
    "    let mut map = HashMap::new();\n",
    "    map.insert(field_name, field_value);\n",
    "    // field_name and field_value are invalid at this point, try using them and\n",
    "    // see what compiler error you get!\n",
    "    println!(\"{field_name}\");\n",
    "}"
   ]
  },
  {
   "cell_type": "markdown",
   "id": "bf395eb5-fdce-402b-9955-9bcae23d9e4a",
   "metadata": {},
   "source": [
    "## Updating a Hash Map\n",
    "\n",
    "### Overwriting a Value"
   ]
  },
  {
   "cell_type": "code",
   "execution_count": 42,
   "id": "aafd01aa-e726-40ef-80e8-05d0cba426a1",
   "metadata": {},
   "outputs": [
    {
     "name": "stdout",
     "output_type": "stream",
     "text": [
      "{\"Blue\": 25}\n"
     ]
    },
    {
     "data": {
      "text/plain": [
       "()"
      ]
     },
     "execution_count": 42,
     "metadata": {},
     "output_type": "execute_result"
    }
   ],
   "source": [
    "{\n",
    "    use std::collections::HashMap;\n",
    "\n",
    "    let mut scores = HashMap::new();\n",
    "\n",
    "    scores.insert(String::from(\"Blue\"), 10);\n",
    "    scores.insert(String::from(\"Blue\"), 25);\n",
    "\n",
    "    println!(\"{:?}\", scores);\n",
    "}"
   ]
  },
  {
   "cell_type": "markdown",
   "id": "2418ecf9-e0b1-4ada-b04d-6e6e2af7d1fd",
   "metadata": {},
   "source": [
    "### Adding a Key and Value Only If a Key Isn’t Present"
   ]
  },
  {
   "cell_type": "code",
   "execution_count": 46,
   "id": "1be548c7-ef93-4b79-aa83-a341edede317",
   "metadata": {},
   "outputs": [
    {
     "name": "stdout",
     "output_type": "stream",
     "text": [
      "{\"Yellow\": 50, \"Blue\": 10}\n"
     ]
    },
    {
     "data": {
      "text/plain": [
       "()"
      ]
     },
     "execution_count": 46,
     "metadata": {},
     "output_type": "execute_result"
    }
   ],
   "source": [
    "{\n",
    "    use std::collections::HashMap;\n",
    "\n",
    "    let mut scores = HashMap::new();\n",
    "\n",
    "    scores.insert(String::from(\"Blue\"), 10);\n",
    "\n",
    "    scores.entry(String::from(\"Yellow\")).or_insert(50);\n",
    "    scores.entry(String::from(\"Blue\")).or_insert(50);  // will not update the hasp map\n",
    "\n",
    "    println!(\"{:?}\", scores);\n",
    "}"
   ]
  },
  {
   "cell_type": "markdown",
   "id": "a5188bb9-672c-47dc-817d-2d050ce0f048",
   "metadata": {},
   "source": [
    "### Updating a Value Based on the Old Value"
   ]
  },
  {
   "cell_type": "code",
   "execution_count": 48,
   "id": "5065556e-866a-4f8f-a97a-d73e57a46cac",
   "metadata": {},
   "outputs": [
    {
     "name": "stdout",
     "output_type": "stream",
     "text": [
      "{\"hello\": 1, \"world\": 2, \"wonderful\": 1}\n"
     ]
    },
    {
     "data": {
      "text/plain": [
       "()"
      ]
     },
     "execution_count": 48,
     "metadata": {},
     "output_type": "execute_result"
    }
   ],
   "source": [
    "{\n",
    "    use std::collections::HashMap;\n",
    "\n",
    "    let text = \"hello world wonderful world\";\n",
    "    let mut map = HashMap::new();\n",
    "\n",
    "    for word in text.split_whitespace() {\n",
    "        let count = map.entry(word).or_insert(0);\n",
    "        *count += 1;\n",
    "    }\n",
    "\n",
    "    println!(\"{:?}\", map);\n",
    "}"
   ]
  },
  {
   "cell_type": "markdown",
   "id": "fdf7d410-ae17-4c74-9e0e-08f8abce4c61",
   "metadata": {},
   "source": [
    "# 8.4. Summary\n",
    "\n",
    "- Given a list of integers, use a vector and return the median (when sorted, the value in the middle position) and mode (the value that occurs most often; a hash map will be helpful here) of the list\n",
    "- Convert strings to pig latin. The first consonant of each word is moved to the end of the word and “ay” is added, so “first” becomes “irst-fay.” Words that start with a vowel have “hay” added to the end instead (“apple” becomes “apple-hay”). Keep in mind the details about UTF-8 encoding\n",
    "- Using a hash map and vectors, create a text interface to allow a user to add employee names to a department in a company. For example, “Add Sally to Engineering” or “Add Amir to Sales.” Then let the user retrieve a list of all people in a department or all people in the company by department, sorted alphabeticallyy.\n"
   ]
  },
  {
   "cell_type": "code",
   "execution_count": null,
   "id": "5627c07f-49cb-4d77-b61f-13ef401b373a",
   "metadata": {},
   "outputs": [],
   "source": []
  }
 ],
 "metadata": {
  "kernelspec": {
   "display_name": "Rust",
   "language": "rust",
   "name": "rust"
  },
  "language_info": {
   "codemirror_mode": "rust",
   "file_extension": ".rs",
   "mimetype": "text/rust",
   "name": "Rust",
   "pygment_lexer": "rust",
   "version": ""
  }
 },
 "nbformat": 4,
 "nbformat_minor": 5
}
